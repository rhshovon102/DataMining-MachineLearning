{
  "nbformat": 4,
  "nbformat_minor": 0,
  "metadata": {
    "colab": {
      "provenance": [],
      "authorship_tag": "ABX9TyNo82twni8/HMG3vyhJXek8",
      "include_colab_link": true
    },
    "kernelspec": {
      "name": "python3",
      "display_name": "Python 3"
    },
    "language_info": {
      "name": "python"
    }
  },
  "cells": [
    {
      "cell_type": "markdown",
      "metadata": {
        "id": "view-in-github",
        "colab_type": "text"
      },
      "source": [
        "<a href=\"https://colab.research.google.com/github/rakibhasan3948/DataMining-MachineLearning/blob/main/0_1_SmokingAndDrinkingDatasetWithBodySignal.ipynb\" target=\"_parent\"><img src=\"https://colab.research.google.com/assets/colab-badge.svg\" alt=\"Open In Colab\"/></a>"
      ]
    },
    {
      "cell_type": "markdown",
      "source": [
        "#**After implementing several algorithms on the smoking_driking_dataset_Ver01 I have got these following results-**\n",
        "\n",
        "**Linnear Regression -**  \n",
        "*   Smoker_Type = 0.37737678550554643\n",
        "*   Drinker_Type = 0.37737678550554643\n",
        "\n",
        "**Logistic Regression -**\n",
        "*   Smoker_Type = 0.6769483538967078\n",
        "*   Drinker_Type = 0.714241428482857\n",
        "\n",
        "**K-Nearest Neighbor -**\n",
        "*   Smoker_Type = 0.6459172918345837\n",
        "*   Drinker_Type = 0.6705623411246823\n",
        "\n",
        "**Naive Bayes -**\n",
        "*   Smoker_Type = 0.6640833281666564\n",
        "*   Drinker_Type = 0.6758323516647033\n",
        "\n",
        "**Decision Tree -**\n",
        "*   Smoker_Type = 0.6180172360344721\n",
        "*   Drinker_Type = 0.6393452786905574\n",
        "\n",
        "**K-Nearest Neighbor -**\n",
        "*   Smoker_Type = 0.6884803769607539\n",
        "*   Drinker_Type = 0.7273854547709095"
      ],
      "metadata": {
        "id": "9VoPDE7pYf3C"
      }
    },
    {
      "cell_type": "markdown",
      "source": [
        "# **Preprocessing**"
      ],
      "metadata": {
        "id": "OjCieioqQxA-"
      }
    },
    {
      "cell_type": "code",
      "execution_count": 91,
      "metadata": {
        "id": "1Z1l6vovPv6t",
        "colab": {
          "base_uri": "https://localhost:8080/",
          "height": 444
        },
        "outputId": "0835f37b-4269-49f2-af33-3b2a35982356"
      },
      "outputs": [
        {
          "output_type": "execute_result",
          "data": {
            "text/plain": [
              "           sex  age  height  weight  waistline  sight_left  sight_right  \\\n",
              "0         Male   35     170      75       90.0         1.0          1.0   \n",
              "1         Male   30     180      80       89.0         0.9          1.2   \n",
              "2         Male   40     165      75       91.0         1.2          1.5   \n",
              "3         Male   50     175      80       91.0         1.5          1.2   \n",
              "4         Male   50     165      60       80.0         1.0          1.2   \n",
              "...        ...  ...     ...     ...        ...         ...          ...   \n",
              "104359  Female   30     155      70       93.0         0.4          0.6   \n",
              "104360    Male   40     170      75       99.0         1.5          1.5   \n",
              "104361  Female   30     165      45       60.4         0.9          0.9   \n",
              "104362    Male   45     170      75       85.0         1.5          1.5   \n",
              "104363  Female   40     165      55       68.0         0.7          0.8   \n",
              "\n",
              "        hear_left  hear_right    SBP  ...  LDL_chole  triglyceride  \\\n",
              "0             1.0         1.0  120.0  ...      126.0          92.0   \n",
              "1             1.0         1.0  130.0  ...      148.0         121.0   \n",
              "2             1.0         1.0  120.0  ...       74.0         104.0   \n",
              "3             1.0         1.0  145.0  ...      104.0         106.0   \n",
              "4             1.0         1.0  138.0  ...      117.0         104.0   \n",
              "...           ...         ...    ...  ...        ...           ...   \n",
              "104359        1.0         1.0  126.0  ...      106.0          81.0   \n",
              "104360        1.0         1.0  110.0  ...      156.0         152.0   \n",
              "104361        1.0         1.0  106.0  ...       61.0          59.0   \n",
              "104362        1.0         1.0  113.0  ...      132.0         341.0   \n",
              "104363        1.0         1.0   97.0  ...        NaN           NaN   \n",
              "\n",
              "        hemoglobin  urine_protein  serum_creatinine  SGOT_AST  SGOT_ALT  \\\n",
              "0             17.1            1.0               1.0      21.0      35.0   \n",
              "1             15.8            1.0               0.9      20.0      36.0   \n",
              "2             15.8            1.0               0.9      47.0      32.0   \n",
              "3             17.6            1.0               1.1      29.0      34.0   \n",
              "4             13.8            1.0               0.8      19.0      12.0   \n",
              "...            ...            ...               ...       ...       ...   \n",
              "104359        14.2            1.0               0.7      21.0      28.0   \n",
              "104360        15.4            1.0               1.1      31.0      44.0   \n",
              "104361        13.4            1.0               0.8      14.0      10.0   \n",
              "104362        15.1            1.0               1.1      27.0      40.0   \n",
              "104363         NaN            NaN               NaN       NaN       NaN   \n",
              "\n",
              "        gamma_GTP  SMK_stat_type_cd  DRK_YN  \n",
              "0            40.0               1.0       Y  \n",
              "1            27.0               3.0       N  \n",
              "2            68.0               1.0       N  \n",
              "3            18.0               1.0       N  \n",
              "4            25.0               1.0       N  \n",
              "...           ...               ...     ...  \n",
              "104359      115.0               3.0       Y  \n",
              "104360       34.0               3.0       N  \n",
              "104361       13.0               1.0       Y  \n",
              "104362      126.0               3.0       N  \n",
              "104363        NaN               NaN     NaN  \n",
              "\n",
              "[104364 rows x 24 columns]"
            ],
            "text/html": [
              "\n",
              "  <div id=\"df-bd2eb241-a3c6-455f-ba37-c24de6387b08\" class=\"colab-df-container\">\n",
              "    <div>\n",
              "<style scoped>\n",
              "    .dataframe tbody tr th:only-of-type {\n",
              "        vertical-align: middle;\n",
              "    }\n",
              "\n",
              "    .dataframe tbody tr th {\n",
              "        vertical-align: top;\n",
              "    }\n",
              "\n",
              "    .dataframe thead th {\n",
              "        text-align: right;\n",
              "    }\n",
              "</style>\n",
              "<table border=\"1\" class=\"dataframe\">\n",
              "  <thead>\n",
              "    <tr style=\"text-align: right;\">\n",
              "      <th></th>\n",
              "      <th>sex</th>\n",
              "      <th>age</th>\n",
              "      <th>height</th>\n",
              "      <th>weight</th>\n",
              "      <th>waistline</th>\n",
              "      <th>sight_left</th>\n",
              "      <th>sight_right</th>\n",
              "      <th>hear_left</th>\n",
              "      <th>hear_right</th>\n",
              "      <th>SBP</th>\n",
              "      <th>...</th>\n",
              "      <th>LDL_chole</th>\n",
              "      <th>triglyceride</th>\n",
              "      <th>hemoglobin</th>\n",
              "      <th>urine_protein</th>\n",
              "      <th>serum_creatinine</th>\n",
              "      <th>SGOT_AST</th>\n",
              "      <th>SGOT_ALT</th>\n",
              "      <th>gamma_GTP</th>\n",
              "      <th>SMK_stat_type_cd</th>\n",
              "      <th>DRK_YN</th>\n",
              "    </tr>\n",
              "  </thead>\n",
              "  <tbody>\n",
              "    <tr>\n",
              "      <th>0</th>\n",
              "      <td>Male</td>\n",
              "      <td>35</td>\n",
              "      <td>170</td>\n",
              "      <td>75</td>\n",
              "      <td>90.0</td>\n",
              "      <td>1.0</td>\n",
              "      <td>1.0</td>\n",
              "      <td>1.0</td>\n",
              "      <td>1.0</td>\n",
              "      <td>120.0</td>\n",
              "      <td>...</td>\n",
              "      <td>126.0</td>\n",
              "      <td>92.0</td>\n",
              "      <td>17.1</td>\n",
              "      <td>1.0</td>\n",
              "      <td>1.0</td>\n",
              "      <td>21.0</td>\n",
              "      <td>35.0</td>\n",
              "      <td>40.0</td>\n",
              "      <td>1.0</td>\n",
              "      <td>Y</td>\n",
              "    </tr>\n",
              "    <tr>\n",
              "      <th>1</th>\n",
              "      <td>Male</td>\n",
              "      <td>30</td>\n",
              "      <td>180</td>\n",
              "      <td>80</td>\n",
              "      <td>89.0</td>\n",
              "      <td>0.9</td>\n",
              "      <td>1.2</td>\n",
              "      <td>1.0</td>\n",
              "      <td>1.0</td>\n",
              "      <td>130.0</td>\n",
              "      <td>...</td>\n",
              "      <td>148.0</td>\n",
              "      <td>121.0</td>\n",
              "      <td>15.8</td>\n",
              "      <td>1.0</td>\n",
              "      <td>0.9</td>\n",
              "      <td>20.0</td>\n",
              "      <td>36.0</td>\n",
              "      <td>27.0</td>\n",
              "      <td>3.0</td>\n",
              "      <td>N</td>\n",
              "    </tr>\n",
              "    <tr>\n",
              "      <th>2</th>\n",
              "      <td>Male</td>\n",
              "      <td>40</td>\n",
              "      <td>165</td>\n",
              "      <td>75</td>\n",
              "      <td>91.0</td>\n",
              "      <td>1.2</td>\n",
              "      <td>1.5</td>\n",
              "      <td>1.0</td>\n",
              "      <td>1.0</td>\n",
              "      <td>120.0</td>\n",
              "      <td>...</td>\n",
              "      <td>74.0</td>\n",
              "      <td>104.0</td>\n",
              "      <td>15.8</td>\n",
              "      <td>1.0</td>\n",
              "      <td>0.9</td>\n",
              "      <td>47.0</td>\n",
              "      <td>32.0</td>\n",
              "      <td>68.0</td>\n",
              "      <td>1.0</td>\n",
              "      <td>N</td>\n",
              "    </tr>\n",
              "    <tr>\n",
              "      <th>3</th>\n",
              "      <td>Male</td>\n",
              "      <td>50</td>\n",
              "      <td>175</td>\n",
              "      <td>80</td>\n",
              "      <td>91.0</td>\n",
              "      <td>1.5</td>\n",
              "      <td>1.2</td>\n",
              "      <td>1.0</td>\n",
              "      <td>1.0</td>\n",
              "      <td>145.0</td>\n",
              "      <td>...</td>\n",
              "      <td>104.0</td>\n",
              "      <td>106.0</td>\n",
              "      <td>17.6</td>\n",
              "      <td>1.0</td>\n",
              "      <td>1.1</td>\n",
              "      <td>29.0</td>\n",
              "      <td>34.0</td>\n",
              "      <td>18.0</td>\n",
              "      <td>1.0</td>\n",
              "      <td>N</td>\n",
              "    </tr>\n",
              "    <tr>\n",
              "      <th>4</th>\n",
              "      <td>Male</td>\n",
              "      <td>50</td>\n",
              "      <td>165</td>\n",
              "      <td>60</td>\n",
              "      <td>80.0</td>\n",
              "      <td>1.0</td>\n",
              "      <td>1.2</td>\n",
              "      <td>1.0</td>\n",
              "      <td>1.0</td>\n",
              "      <td>138.0</td>\n",
              "      <td>...</td>\n",
              "      <td>117.0</td>\n",
              "      <td>104.0</td>\n",
              "      <td>13.8</td>\n",
              "      <td>1.0</td>\n",
              "      <td>0.8</td>\n",
              "      <td>19.0</td>\n",
              "      <td>12.0</td>\n",
              "      <td>25.0</td>\n",
              "      <td>1.0</td>\n",
              "      <td>N</td>\n",
              "    </tr>\n",
              "    <tr>\n",
              "      <th>...</th>\n",
              "      <td>...</td>\n",
              "      <td>...</td>\n",
              "      <td>...</td>\n",
              "      <td>...</td>\n",
              "      <td>...</td>\n",
              "      <td>...</td>\n",
              "      <td>...</td>\n",
              "      <td>...</td>\n",
              "      <td>...</td>\n",
              "      <td>...</td>\n",
              "      <td>...</td>\n",
              "      <td>...</td>\n",
              "      <td>...</td>\n",
              "      <td>...</td>\n",
              "      <td>...</td>\n",
              "      <td>...</td>\n",
              "      <td>...</td>\n",
              "      <td>...</td>\n",
              "      <td>...</td>\n",
              "      <td>...</td>\n",
              "      <td>...</td>\n",
              "    </tr>\n",
              "    <tr>\n",
              "      <th>104359</th>\n",
              "      <td>Female</td>\n",
              "      <td>30</td>\n",
              "      <td>155</td>\n",
              "      <td>70</td>\n",
              "      <td>93.0</td>\n",
              "      <td>0.4</td>\n",
              "      <td>0.6</td>\n",
              "      <td>1.0</td>\n",
              "      <td>1.0</td>\n",
              "      <td>126.0</td>\n",
              "      <td>...</td>\n",
              "      <td>106.0</td>\n",
              "      <td>81.0</td>\n",
              "      <td>14.2</td>\n",
              "      <td>1.0</td>\n",
              "      <td>0.7</td>\n",
              "      <td>21.0</td>\n",
              "      <td>28.0</td>\n",
              "      <td>115.0</td>\n",
              "      <td>3.0</td>\n",
              "      <td>Y</td>\n",
              "    </tr>\n",
              "    <tr>\n",
              "      <th>104360</th>\n",
              "      <td>Male</td>\n",
              "      <td>40</td>\n",
              "      <td>170</td>\n",
              "      <td>75</td>\n",
              "      <td>99.0</td>\n",
              "      <td>1.5</td>\n",
              "      <td>1.5</td>\n",
              "      <td>1.0</td>\n",
              "      <td>1.0</td>\n",
              "      <td>110.0</td>\n",
              "      <td>...</td>\n",
              "      <td>156.0</td>\n",
              "      <td>152.0</td>\n",
              "      <td>15.4</td>\n",
              "      <td>1.0</td>\n",
              "      <td>1.1</td>\n",
              "      <td>31.0</td>\n",
              "      <td>44.0</td>\n",
              "      <td>34.0</td>\n",
              "      <td>3.0</td>\n",
              "      <td>N</td>\n",
              "    </tr>\n",
              "    <tr>\n",
              "      <th>104361</th>\n",
              "      <td>Female</td>\n",
              "      <td>30</td>\n",
              "      <td>165</td>\n",
              "      <td>45</td>\n",
              "      <td>60.4</td>\n",
              "      <td>0.9</td>\n",
              "      <td>0.9</td>\n",
              "      <td>1.0</td>\n",
              "      <td>1.0</td>\n",
              "      <td>106.0</td>\n",
              "      <td>...</td>\n",
              "      <td>61.0</td>\n",
              "      <td>59.0</td>\n",
              "      <td>13.4</td>\n",
              "      <td>1.0</td>\n",
              "      <td>0.8</td>\n",
              "      <td>14.0</td>\n",
              "      <td>10.0</td>\n",
              "      <td>13.0</td>\n",
              "      <td>1.0</td>\n",
              "      <td>Y</td>\n",
              "    </tr>\n",
              "    <tr>\n",
              "      <th>104362</th>\n",
              "      <td>Male</td>\n",
              "      <td>45</td>\n",
              "      <td>170</td>\n",
              "      <td>75</td>\n",
              "      <td>85.0</td>\n",
              "      <td>1.5</td>\n",
              "      <td>1.5</td>\n",
              "      <td>1.0</td>\n",
              "      <td>1.0</td>\n",
              "      <td>113.0</td>\n",
              "      <td>...</td>\n",
              "      <td>132.0</td>\n",
              "      <td>341.0</td>\n",
              "      <td>15.1</td>\n",
              "      <td>1.0</td>\n",
              "      <td>1.1</td>\n",
              "      <td>27.0</td>\n",
              "      <td>40.0</td>\n",
              "      <td>126.0</td>\n",
              "      <td>3.0</td>\n",
              "      <td>N</td>\n",
              "    </tr>\n",
              "    <tr>\n",
              "      <th>104363</th>\n",
              "      <td>Female</td>\n",
              "      <td>40</td>\n",
              "      <td>165</td>\n",
              "      <td>55</td>\n",
              "      <td>68.0</td>\n",
              "      <td>0.7</td>\n",
              "      <td>0.8</td>\n",
              "      <td>1.0</td>\n",
              "      <td>1.0</td>\n",
              "      <td>97.0</td>\n",
              "      <td>...</td>\n",
              "      <td>NaN</td>\n",
              "      <td>NaN</td>\n",
              "      <td>NaN</td>\n",
              "      <td>NaN</td>\n",
              "      <td>NaN</td>\n",
              "      <td>NaN</td>\n",
              "      <td>NaN</td>\n",
              "      <td>NaN</td>\n",
              "      <td>NaN</td>\n",
              "      <td>NaN</td>\n",
              "    </tr>\n",
              "  </tbody>\n",
              "</table>\n",
              "<p>104364 rows × 24 columns</p>\n",
              "</div>\n",
              "    <div class=\"colab-df-buttons\">\n",
              "\n",
              "  <div class=\"colab-df-container\">\n",
              "    <button class=\"colab-df-convert\" onclick=\"convertToInteractive('df-bd2eb241-a3c6-455f-ba37-c24de6387b08')\"\n",
              "            title=\"Convert this dataframe to an interactive table.\"\n",
              "            style=\"display:none;\">\n",
              "\n",
              "  <svg xmlns=\"http://www.w3.org/2000/svg\" height=\"24px\" viewBox=\"0 -960 960 960\">\n",
              "    <path d=\"M120-120v-720h720v720H120Zm60-500h600v-160H180v160Zm220 220h160v-160H400v160Zm0 220h160v-160H400v160ZM180-400h160v-160H180v160Zm440 0h160v-160H620v160ZM180-180h160v-160H180v160Zm440 0h160v-160H620v160Z\"/>\n",
              "  </svg>\n",
              "    </button>\n",
              "\n",
              "  <style>\n",
              "    .colab-df-container {\n",
              "      display:flex;\n",
              "      gap: 12px;\n",
              "    }\n",
              "\n",
              "    .colab-df-convert {\n",
              "      background-color: #E8F0FE;\n",
              "      border: none;\n",
              "      border-radius: 50%;\n",
              "      cursor: pointer;\n",
              "      display: none;\n",
              "      fill: #1967D2;\n",
              "      height: 32px;\n",
              "      padding: 0 0 0 0;\n",
              "      width: 32px;\n",
              "    }\n",
              "\n",
              "    .colab-df-convert:hover {\n",
              "      background-color: #E2EBFA;\n",
              "      box-shadow: 0px 1px 2px rgba(60, 64, 67, 0.3), 0px 1px 3px 1px rgba(60, 64, 67, 0.15);\n",
              "      fill: #174EA6;\n",
              "    }\n",
              "\n",
              "    .colab-df-buttons div {\n",
              "      margin-bottom: 4px;\n",
              "    }\n",
              "\n",
              "    [theme=dark] .colab-df-convert {\n",
              "      background-color: #3B4455;\n",
              "      fill: #D2E3FC;\n",
              "    }\n",
              "\n",
              "    [theme=dark] .colab-df-convert:hover {\n",
              "      background-color: #434B5C;\n",
              "      box-shadow: 0px 1px 3px 1px rgba(0, 0, 0, 0.15);\n",
              "      filter: drop-shadow(0px 1px 2px rgba(0, 0, 0, 0.3));\n",
              "      fill: #FFFFFF;\n",
              "    }\n",
              "  </style>\n",
              "\n",
              "    <script>\n",
              "      const buttonEl =\n",
              "        document.querySelector('#df-bd2eb241-a3c6-455f-ba37-c24de6387b08 button.colab-df-convert');\n",
              "      buttonEl.style.display =\n",
              "        google.colab.kernel.accessAllowed ? 'block' : 'none';\n",
              "\n",
              "      async function convertToInteractive(key) {\n",
              "        const element = document.querySelector('#df-bd2eb241-a3c6-455f-ba37-c24de6387b08');\n",
              "        const dataTable =\n",
              "          await google.colab.kernel.invokeFunction('convertToInteractive',\n",
              "                                                    [key], {});\n",
              "        if (!dataTable) return;\n",
              "\n",
              "        const docLinkHtml = 'Like what you see? Visit the ' +\n",
              "          '<a target=\"_blank\" href=https://colab.research.google.com/notebooks/data_table.ipynb>data table notebook</a>'\n",
              "          + ' to learn more about interactive tables.';\n",
              "        element.innerHTML = '';\n",
              "        dataTable['output_type'] = 'display_data';\n",
              "        await google.colab.output.renderOutput(dataTable, element);\n",
              "        const docLink = document.createElement('div');\n",
              "        docLink.innerHTML = docLinkHtml;\n",
              "        element.appendChild(docLink);\n",
              "      }\n",
              "    </script>\n",
              "  </div>\n",
              "\n",
              "\n",
              "<div id=\"df-2574782e-a863-4c8f-8ddc-df1846c8e66b\">\n",
              "  <button class=\"colab-df-quickchart\" onclick=\"quickchart('df-2574782e-a863-4c8f-8ddc-df1846c8e66b')\"\n",
              "            title=\"Suggest charts.\"\n",
              "            style=\"display:none;\">\n",
              "\n",
              "<svg xmlns=\"http://www.w3.org/2000/svg\" height=\"24px\"viewBox=\"0 0 24 24\"\n",
              "     width=\"24px\">\n",
              "    <g>\n",
              "        <path d=\"M19 3H5c-1.1 0-2 .9-2 2v14c0 1.1.9 2 2 2h14c1.1 0 2-.9 2-2V5c0-1.1-.9-2-2-2zM9 17H7v-7h2v7zm4 0h-2V7h2v10zm4 0h-2v-4h2v4z\"/>\n",
              "    </g>\n",
              "</svg>\n",
              "  </button>\n",
              "\n",
              "<style>\n",
              "  .colab-df-quickchart {\n",
              "      --bg-color: #E8F0FE;\n",
              "      --fill-color: #1967D2;\n",
              "      --hover-bg-color: #E2EBFA;\n",
              "      --hover-fill-color: #174EA6;\n",
              "      --disabled-fill-color: #AAA;\n",
              "      --disabled-bg-color: #DDD;\n",
              "  }\n",
              "\n",
              "  [theme=dark] .colab-df-quickchart {\n",
              "      --bg-color: #3B4455;\n",
              "      --fill-color: #D2E3FC;\n",
              "      --hover-bg-color: #434B5C;\n",
              "      --hover-fill-color: #FFFFFF;\n",
              "      --disabled-bg-color: #3B4455;\n",
              "      --disabled-fill-color: #666;\n",
              "  }\n",
              "\n",
              "  .colab-df-quickchart {\n",
              "    background-color: var(--bg-color);\n",
              "    border: none;\n",
              "    border-radius: 50%;\n",
              "    cursor: pointer;\n",
              "    display: none;\n",
              "    fill: var(--fill-color);\n",
              "    height: 32px;\n",
              "    padding: 0;\n",
              "    width: 32px;\n",
              "  }\n",
              "\n",
              "  .colab-df-quickchart:hover {\n",
              "    background-color: var(--hover-bg-color);\n",
              "    box-shadow: 0 1px 2px rgba(60, 64, 67, 0.3), 0 1px 3px 1px rgba(60, 64, 67, 0.15);\n",
              "    fill: var(--button-hover-fill-color);\n",
              "  }\n",
              "\n",
              "  .colab-df-quickchart-complete:disabled,\n",
              "  .colab-df-quickchart-complete:disabled:hover {\n",
              "    background-color: var(--disabled-bg-color);\n",
              "    fill: var(--disabled-fill-color);\n",
              "    box-shadow: none;\n",
              "  }\n",
              "\n",
              "  .colab-df-spinner {\n",
              "    border: 2px solid var(--fill-color);\n",
              "    border-color: transparent;\n",
              "    border-bottom-color: var(--fill-color);\n",
              "    animation:\n",
              "      spin 1s steps(1) infinite;\n",
              "  }\n",
              "\n",
              "  @keyframes spin {\n",
              "    0% {\n",
              "      border-color: transparent;\n",
              "      border-bottom-color: var(--fill-color);\n",
              "      border-left-color: var(--fill-color);\n",
              "    }\n",
              "    20% {\n",
              "      border-color: transparent;\n",
              "      border-left-color: var(--fill-color);\n",
              "      border-top-color: var(--fill-color);\n",
              "    }\n",
              "    30% {\n",
              "      border-color: transparent;\n",
              "      border-left-color: var(--fill-color);\n",
              "      border-top-color: var(--fill-color);\n",
              "      border-right-color: var(--fill-color);\n",
              "    }\n",
              "    40% {\n",
              "      border-color: transparent;\n",
              "      border-right-color: var(--fill-color);\n",
              "      border-top-color: var(--fill-color);\n",
              "    }\n",
              "    60% {\n",
              "      border-color: transparent;\n",
              "      border-right-color: var(--fill-color);\n",
              "    }\n",
              "    80% {\n",
              "      border-color: transparent;\n",
              "      border-right-color: var(--fill-color);\n",
              "      border-bottom-color: var(--fill-color);\n",
              "    }\n",
              "    90% {\n",
              "      border-color: transparent;\n",
              "      border-bottom-color: var(--fill-color);\n",
              "    }\n",
              "  }\n",
              "</style>\n",
              "\n",
              "  <script>\n",
              "    async function quickchart(key) {\n",
              "      const quickchartButtonEl =\n",
              "        document.querySelector('#' + key + ' button');\n",
              "      quickchartButtonEl.disabled = true;  // To prevent multiple clicks.\n",
              "      quickchartButtonEl.classList.add('colab-df-spinner');\n",
              "      try {\n",
              "        const charts = await google.colab.kernel.invokeFunction(\n",
              "            'suggestCharts', [key], {});\n",
              "      } catch (error) {\n",
              "        console.error('Error during call to suggestCharts:', error);\n",
              "      }\n",
              "      quickchartButtonEl.classList.remove('colab-df-spinner');\n",
              "      quickchartButtonEl.classList.add('colab-df-quickchart-complete');\n",
              "    }\n",
              "    (() => {\n",
              "      let quickchartButtonEl =\n",
              "        document.querySelector('#df-2574782e-a863-4c8f-8ddc-df1846c8e66b button');\n",
              "      quickchartButtonEl.style.display =\n",
              "        google.colab.kernel.accessAllowed ? 'block' : 'none';\n",
              "    })();\n",
              "  </script>\n",
              "</div>\n",
              "    </div>\n",
              "  </div>\n"
            ]
          },
          "metadata": {},
          "execution_count": 91
        }
      ],
      "source": [
        "import pandas as pd\n",
        "df = pd.read_csv('/content/smoking_driking_dataset_Ver01.csv')\n",
        "df"
      ]
    },
    {
      "cell_type": "code",
      "source": [
        "df.isna().sum()"
      ],
      "metadata": {
        "colab": {
          "base_uri": "https://localhost:8080/"
        },
        "id": "J6WjhkniQcAX",
        "outputId": "5d9fca05-8771-4ac1-e004-0a734d61e7a7"
      },
      "execution_count": 92,
      "outputs": [
        {
          "output_type": "execute_result",
          "data": {
            "text/plain": [
              "sex                 0\n",
              "age                 0\n",
              "height              0\n",
              "weight              0\n",
              "waistline           0\n",
              "sight_left          0\n",
              "sight_right         0\n",
              "hear_left           0\n",
              "hear_right          0\n",
              "SBP                 0\n",
              "DBP                 1\n",
              "BLDS                1\n",
              "tot_chole           1\n",
              "HDL_chole           1\n",
              "LDL_chole           1\n",
              "triglyceride        1\n",
              "hemoglobin          1\n",
              "urine_protein       1\n",
              "serum_creatinine    1\n",
              "SGOT_AST            1\n",
              "SGOT_ALT            1\n",
              "gamma_GTP           1\n",
              "SMK_stat_type_cd    1\n",
              "DRK_YN              1\n",
              "dtype: int64"
            ]
          },
          "metadata": {},
          "execution_count": 92
        }
      ]
    },
    {
      "cell_type": "code",
      "source": [
        "df.dropna(inplace = True)"
      ],
      "metadata": {
        "id": "7E594A4LQe_9"
      },
      "execution_count": 93,
      "outputs": []
    },
    {
      "cell_type": "code",
      "source": [
        "df.isna().sum()"
      ],
      "metadata": {
        "colab": {
          "base_uri": "https://localhost:8080/"
        },
        "id": "QYFDHPHoQk59",
        "outputId": "f100b098-4ff7-4173-abd9-40ef0987248d"
      },
      "execution_count": 94,
      "outputs": [
        {
          "output_type": "execute_result",
          "data": {
            "text/plain": [
              "sex                 0\n",
              "age                 0\n",
              "height              0\n",
              "weight              0\n",
              "waistline           0\n",
              "sight_left          0\n",
              "sight_right         0\n",
              "hear_left           0\n",
              "hear_right          0\n",
              "SBP                 0\n",
              "DBP                 0\n",
              "BLDS                0\n",
              "tot_chole           0\n",
              "HDL_chole           0\n",
              "LDL_chole           0\n",
              "triglyceride        0\n",
              "hemoglobin          0\n",
              "urine_protein       0\n",
              "serum_creatinine    0\n",
              "SGOT_AST            0\n",
              "SGOT_ALT            0\n",
              "gamma_GTP           0\n",
              "SMK_stat_type_cd    0\n",
              "DRK_YN              0\n",
              "dtype: int64"
            ]
          },
          "metadata": {},
          "execution_count": 94
        }
      ]
    },
    {
      "cell_type": "code",
      "source": [
        "from sklearn.preprocessing import LabelEncoder\n",
        "\n",
        "le  = LabelEncoder()\n",
        "df.DRK_YN = le.fit_transform(df.DRK_YN)\n",
        "df.sex = le.fit_transform(df.sex)"
      ],
      "metadata": {
        "id": "MP_Hm3UJQnYP"
      },
      "execution_count": 95,
      "outputs": []
    },
    {
      "cell_type": "code",
      "source": [
        "df.DRK_YN.unique()"
      ],
      "metadata": {
        "colab": {
          "base_uri": "https://localhost:8080/"
        },
        "id": "C6MdZlMWQ9xe",
        "outputId": "a20e5545-d9d3-4582-dce1-248a9bda510e"
      },
      "execution_count": 96,
      "outputs": [
        {
          "output_type": "execute_result",
          "data": {
            "text/plain": [
              "array([1, 0])"
            ]
          },
          "metadata": {},
          "execution_count": 96
        }
      ]
    },
    {
      "cell_type": "code",
      "source": [
        "df.DRK_YN.value_counts()"
      ],
      "metadata": {
        "colab": {
          "base_uri": "https://localhost:8080/"
        },
        "id": "jJyXHNgqd-1i",
        "outputId": "f4e29857-8385-470c-d9df-004849b901c0"
      },
      "execution_count": 97,
      "outputs": [
        {
          "output_type": "execute_result",
          "data": {
            "text/plain": [
              "1    52203\n",
              "0    52160\n",
              "Name: DRK_YN, dtype: int64"
            ]
          },
          "metadata": {},
          "execution_count": 97
        }
      ]
    },
    {
      "cell_type": "code",
      "source": [
        "df.SMK_stat_type_cd.unique()"
      ],
      "metadata": {
        "colab": {
          "base_uri": "https://localhost:8080/"
        },
        "id": "QC9479wERDJj",
        "outputId": "c5e67f5f-8e84-485c-e466-888b7efbe27c"
      },
      "execution_count": 98,
      "outputs": [
        {
          "output_type": "execute_result",
          "data": {
            "text/plain": [
              "array([1., 3., 2.])"
            ]
          },
          "metadata": {},
          "execution_count": 98
        }
      ]
    },
    {
      "cell_type": "code",
      "source": [
        "df.SMK_stat_type_cd = df.SMK_stat_type_cd.astype(int)"
      ],
      "metadata": {
        "id": "n3_1bfbuRKRA"
      },
      "execution_count": 99,
      "outputs": []
    },
    {
      "cell_type": "code",
      "source": [
        "df.SMK_stat_type_cd.unique()"
      ],
      "metadata": {
        "colab": {
          "base_uri": "https://localhost:8080/"
        },
        "id": "y6i14C9CRPzG",
        "outputId": "4656cb81-ddfd-43da-86bc-fbb7102da850"
      },
      "execution_count": 100,
      "outputs": [
        {
          "output_type": "execute_result",
          "data": {
            "text/plain": [
              "array([1, 3, 2])"
            ]
          },
          "metadata": {},
          "execution_count": 100
        }
      ]
    },
    {
      "cell_type": "code",
      "source": [
        "df.SMK_stat_type_cd.value_counts()"
      ],
      "metadata": {
        "id": "fwYxDM65eRXa",
        "outputId": "607c8d16-9c2f-4882-9467-b0e668e7e329",
        "colab": {
          "base_uri": "https://localhost:8080/"
        }
      },
      "execution_count": 101,
      "outputs": [
        {
          "output_type": "execute_result",
          "data": {
            "text/plain": [
              "1    63193\n",
              "3    22631\n",
              "2    18539\n",
              "Name: SMK_stat_type_cd, dtype: int64"
            ]
          },
          "metadata": {},
          "execution_count": 101
        }
      ]
    },
    {
      "cell_type": "code",
      "source": [
        "from sklearn.preprocessing import MinMaxScaler\n",
        "\n",
        "mms = MinMaxScaler()\n",
        "df.iloc[:,0:22] = mms.fit_transform(df.iloc[:,0:22])"
      ],
      "metadata": {
        "colab": {
          "base_uri": "https://localhost:8080/"
        },
        "id": "Njo8BKftRSo0",
        "outputId": "eb0895d4-a082-44ef-9002-ef0cc2bb23a0"
      },
      "execution_count": 102,
      "outputs": [
        {
          "output_type": "stream",
          "name": "stderr",
          "text": [
            "<ipython-input-102-128d76b7958e>:4: DeprecationWarning: In a future version, `df.iloc[:, i] = newvals` will attempt to set the values inplace instead of always setting a new array. To retain the old behavior, use either `df[df.columns[i]] = newvals` or, if columns are non-unique, `df.isetitem(i, newvals)`\n",
            "  df.iloc[:,0:22] = mms.fit_transform(df.iloc[:,0:22])\n"
          ]
        }
      ]
    },
    {
      "cell_type": "code",
      "source": [
        "df.head()"
      ],
      "metadata": {
        "colab": {
          "base_uri": "https://localhost:8080/",
          "height": 256
        },
        "id": "eVaUjt7zRqV-",
        "outputId": "ae272444-be37-4067-8ebb-7604e8f9471b"
      },
      "execution_count": 103,
      "outputs": [
        {
          "output_type": "execute_result",
          "data": {
            "text/plain": [
              "   sex       age    height    weight  waistline  sight_left  sight_right  \\\n",
              "0  1.0  0.230769  0.666667  0.434783   0.057054    0.091837     0.091837   \n",
              "1  1.0  0.153846  0.833333  0.478261   0.056017    0.081633     0.112245   \n",
              "2  1.0  0.307692  0.583333  0.434783   0.058091    0.112245     0.142857   \n",
              "3  1.0  0.461538  0.750000  0.478261   0.058091    0.142857     0.112245   \n",
              "4  1.0  0.461538  0.583333  0.304348   0.046680    0.091837     0.112245   \n",
              "\n",
              "   hear_left  hear_right       SBP  ...  LDL_chole  triglyceride  hemoglobin  \\\n",
              "0        0.0         0.0  0.286624  ...   0.024424      0.009590       0.805   \n",
              "1        0.0         0.0  0.350318  ...   0.028722      0.012646       0.740   \n",
              "2        0.0         0.0  0.286624  ...   0.014263      0.010855       0.740   \n",
              "3        0.0         0.0  0.445860  ...   0.020125      0.011065       0.830   \n",
              "4        0.0         0.0  0.401274  ...   0.022665      0.010855       0.640   \n",
              "\n",
              "   urine_protein  serum_creatinine  SGOT_AST  SGOT_ALT  gamma_GTP  \\\n",
              "0            0.0          0.011125  0.010471  0.014731   0.039078   \n",
              "1            0.0          0.009889  0.009948  0.015165   0.026052   \n",
              "2            0.0          0.009889  0.024084  0.013432   0.067134   \n",
              "3            0.0          0.012361  0.014660  0.014298   0.017034   \n",
              "4            0.0          0.008653  0.009424  0.004766   0.024048   \n",
              "\n",
              "   SMK_stat_type_cd  DRK_YN  \n",
              "0                 1       1  \n",
              "1                 3       0  \n",
              "2                 1       0  \n",
              "3                 1       0  \n",
              "4                 1       0  \n",
              "\n",
              "[5 rows x 24 columns]"
            ],
            "text/html": [
              "\n",
              "  <div id=\"df-fa249ea4-79eb-4e07-a1dc-a0bac28b959f\" class=\"colab-df-container\">\n",
              "    <div>\n",
              "<style scoped>\n",
              "    .dataframe tbody tr th:only-of-type {\n",
              "        vertical-align: middle;\n",
              "    }\n",
              "\n",
              "    .dataframe tbody tr th {\n",
              "        vertical-align: top;\n",
              "    }\n",
              "\n",
              "    .dataframe thead th {\n",
              "        text-align: right;\n",
              "    }\n",
              "</style>\n",
              "<table border=\"1\" class=\"dataframe\">\n",
              "  <thead>\n",
              "    <tr style=\"text-align: right;\">\n",
              "      <th></th>\n",
              "      <th>sex</th>\n",
              "      <th>age</th>\n",
              "      <th>height</th>\n",
              "      <th>weight</th>\n",
              "      <th>waistline</th>\n",
              "      <th>sight_left</th>\n",
              "      <th>sight_right</th>\n",
              "      <th>hear_left</th>\n",
              "      <th>hear_right</th>\n",
              "      <th>SBP</th>\n",
              "      <th>...</th>\n",
              "      <th>LDL_chole</th>\n",
              "      <th>triglyceride</th>\n",
              "      <th>hemoglobin</th>\n",
              "      <th>urine_protein</th>\n",
              "      <th>serum_creatinine</th>\n",
              "      <th>SGOT_AST</th>\n",
              "      <th>SGOT_ALT</th>\n",
              "      <th>gamma_GTP</th>\n",
              "      <th>SMK_stat_type_cd</th>\n",
              "      <th>DRK_YN</th>\n",
              "    </tr>\n",
              "  </thead>\n",
              "  <tbody>\n",
              "    <tr>\n",
              "      <th>0</th>\n",
              "      <td>1.0</td>\n",
              "      <td>0.230769</td>\n",
              "      <td>0.666667</td>\n",
              "      <td>0.434783</td>\n",
              "      <td>0.057054</td>\n",
              "      <td>0.091837</td>\n",
              "      <td>0.091837</td>\n",
              "      <td>0.0</td>\n",
              "      <td>0.0</td>\n",
              "      <td>0.286624</td>\n",
              "      <td>...</td>\n",
              "      <td>0.024424</td>\n",
              "      <td>0.009590</td>\n",
              "      <td>0.805</td>\n",
              "      <td>0.0</td>\n",
              "      <td>0.011125</td>\n",
              "      <td>0.010471</td>\n",
              "      <td>0.014731</td>\n",
              "      <td>0.039078</td>\n",
              "      <td>1</td>\n",
              "      <td>1</td>\n",
              "    </tr>\n",
              "    <tr>\n",
              "      <th>1</th>\n",
              "      <td>1.0</td>\n",
              "      <td>0.153846</td>\n",
              "      <td>0.833333</td>\n",
              "      <td>0.478261</td>\n",
              "      <td>0.056017</td>\n",
              "      <td>0.081633</td>\n",
              "      <td>0.112245</td>\n",
              "      <td>0.0</td>\n",
              "      <td>0.0</td>\n",
              "      <td>0.350318</td>\n",
              "      <td>...</td>\n",
              "      <td>0.028722</td>\n",
              "      <td>0.012646</td>\n",
              "      <td>0.740</td>\n",
              "      <td>0.0</td>\n",
              "      <td>0.009889</td>\n",
              "      <td>0.009948</td>\n",
              "      <td>0.015165</td>\n",
              "      <td>0.026052</td>\n",
              "      <td>3</td>\n",
              "      <td>0</td>\n",
              "    </tr>\n",
              "    <tr>\n",
              "      <th>2</th>\n",
              "      <td>1.0</td>\n",
              "      <td>0.307692</td>\n",
              "      <td>0.583333</td>\n",
              "      <td>0.434783</td>\n",
              "      <td>0.058091</td>\n",
              "      <td>0.112245</td>\n",
              "      <td>0.142857</td>\n",
              "      <td>0.0</td>\n",
              "      <td>0.0</td>\n",
              "      <td>0.286624</td>\n",
              "      <td>...</td>\n",
              "      <td>0.014263</td>\n",
              "      <td>0.010855</td>\n",
              "      <td>0.740</td>\n",
              "      <td>0.0</td>\n",
              "      <td>0.009889</td>\n",
              "      <td>0.024084</td>\n",
              "      <td>0.013432</td>\n",
              "      <td>0.067134</td>\n",
              "      <td>1</td>\n",
              "      <td>0</td>\n",
              "    </tr>\n",
              "    <tr>\n",
              "      <th>3</th>\n",
              "      <td>1.0</td>\n",
              "      <td>0.461538</td>\n",
              "      <td>0.750000</td>\n",
              "      <td>0.478261</td>\n",
              "      <td>0.058091</td>\n",
              "      <td>0.142857</td>\n",
              "      <td>0.112245</td>\n",
              "      <td>0.0</td>\n",
              "      <td>0.0</td>\n",
              "      <td>0.445860</td>\n",
              "      <td>...</td>\n",
              "      <td>0.020125</td>\n",
              "      <td>0.011065</td>\n",
              "      <td>0.830</td>\n",
              "      <td>0.0</td>\n",
              "      <td>0.012361</td>\n",
              "      <td>0.014660</td>\n",
              "      <td>0.014298</td>\n",
              "      <td>0.017034</td>\n",
              "      <td>1</td>\n",
              "      <td>0</td>\n",
              "    </tr>\n",
              "    <tr>\n",
              "      <th>4</th>\n",
              "      <td>1.0</td>\n",
              "      <td>0.461538</td>\n",
              "      <td>0.583333</td>\n",
              "      <td>0.304348</td>\n",
              "      <td>0.046680</td>\n",
              "      <td>0.091837</td>\n",
              "      <td>0.112245</td>\n",
              "      <td>0.0</td>\n",
              "      <td>0.0</td>\n",
              "      <td>0.401274</td>\n",
              "      <td>...</td>\n",
              "      <td>0.022665</td>\n",
              "      <td>0.010855</td>\n",
              "      <td>0.640</td>\n",
              "      <td>0.0</td>\n",
              "      <td>0.008653</td>\n",
              "      <td>0.009424</td>\n",
              "      <td>0.004766</td>\n",
              "      <td>0.024048</td>\n",
              "      <td>1</td>\n",
              "      <td>0</td>\n",
              "    </tr>\n",
              "  </tbody>\n",
              "</table>\n",
              "<p>5 rows × 24 columns</p>\n",
              "</div>\n",
              "    <div class=\"colab-df-buttons\">\n",
              "\n",
              "  <div class=\"colab-df-container\">\n",
              "    <button class=\"colab-df-convert\" onclick=\"convertToInteractive('df-fa249ea4-79eb-4e07-a1dc-a0bac28b959f')\"\n",
              "            title=\"Convert this dataframe to an interactive table.\"\n",
              "            style=\"display:none;\">\n",
              "\n",
              "  <svg xmlns=\"http://www.w3.org/2000/svg\" height=\"24px\" viewBox=\"0 -960 960 960\">\n",
              "    <path d=\"M120-120v-720h720v720H120Zm60-500h600v-160H180v160Zm220 220h160v-160H400v160Zm0 220h160v-160H400v160ZM180-400h160v-160H180v160Zm440 0h160v-160H620v160ZM180-180h160v-160H180v160Zm440 0h160v-160H620v160Z\"/>\n",
              "  </svg>\n",
              "    </button>\n",
              "\n",
              "  <style>\n",
              "    .colab-df-container {\n",
              "      display:flex;\n",
              "      gap: 12px;\n",
              "    }\n",
              "\n",
              "    .colab-df-convert {\n",
              "      background-color: #E8F0FE;\n",
              "      border: none;\n",
              "      border-radius: 50%;\n",
              "      cursor: pointer;\n",
              "      display: none;\n",
              "      fill: #1967D2;\n",
              "      height: 32px;\n",
              "      padding: 0 0 0 0;\n",
              "      width: 32px;\n",
              "    }\n",
              "\n",
              "    .colab-df-convert:hover {\n",
              "      background-color: #E2EBFA;\n",
              "      box-shadow: 0px 1px 2px rgba(60, 64, 67, 0.3), 0px 1px 3px 1px rgba(60, 64, 67, 0.15);\n",
              "      fill: #174EA6;\n",
              "    }\n",
              "\n",
              "    .colab-df-buttons div {\n",
              "      margin-bottom: 4px;\n",
              "    }\n",
              "\n",
              "    [theme=dark] .colab-df-convert {\n",
              "      background-color: #3B4455;\n",
              "      fill: #D2E3FC;\n",
              "    }\n",
              "\n",
              "    [theme=dark] .colab-df-convert:hover {\n",
              "      background-color: #434B5C;\n",
              "      box-shadow: 0px 1px 3px 1px rgba(0, 0, 0, 0.15);\n",
              "      filter: drop-shadow(0px 1px 2px rgba(0, 0, 0, 0.3));\n",
              "      fill: #FFFFFF;\n",
              "    }\n",
              "  </style>\n",
              "\n",
              "    <script>\n",
              "      const buttonEl =\n",
              "        document.querySelector('#df-fa249ea4-79eb-4e07-a1dc-a0bac28b959f button.colab-df-convert');\n",
              "      buttonEl.style.display =\n",
              "        google.colab.kernel.accessAllowed ? 'block' : 'none';\n",
              "\n",
              "      async function convertToInteractive(key) {\n",
              "        const element = document.querySelector('#df-fa249ea4-79eb-4e07-a1dc-a0bac28b959f');\n",
              "        const dataTable =\n",
              "          await google.colab.kernel.invokeFunction('convertToInteractive',\n",
              "                                                    [key], {});\n",
              "        if (!dataTable) return;\n",
              "\n",
              "        const docLinkHtml = 'Like what you see? Visit the ' +\n",
              "          '<a target=\"_blank\" href=https://colab.research.google.com/notebooks/data_table.ipynb>data table notebook</a>'\n",
              "          + ' to learn more about interactive tables.';\n",
              "        element.innerHTML = '';\n",
              "        dataTable['output_type'] = 'display_data';\n",
              "        await google.colab.output.renderOutput(dataTable, element);\n",
              "        const docLink = document.createElement('div');\n",
              "        docLink.innerHTML = docLinkHtml;\n",
              "        element.appendChild(docLink);\n",
              "      }\n",
              "    </script>\n",
              "  </div>\n",
              "\n",
              "\n",
              "<div id=\"df-dae47e55-0428-4472-a0ea-4ce0d419724d\">\n",
              "  <button class=\"colab-df-quickchart\" onclick=\"quickchart('df-dae47e55-0428-4472-a0ea-4ce0d419724d')\"\n",
              "            title=\"Suggest charts.\"\n",
              "            style=\"display:none;\">\n",
              "\n",
              "<svg xmlns=\"http://www.w3.org/2000/svg\" height=\"24px\"viewBox=\"0 0 24 24\"\n",
              "     width=\"24px\">\n",
              "    <g>\n",
              "        <path d=\"M19 3H5c-1.1 0-2 .9-2 2v14c0 1.1.9 2 2 2h14c1.1 0 2-.9 2-2V5c0-1.1-.9-2-2-2zM9 17H7v-7h2v7zm4 0h-2V7h2v10zm4 0h-2v-4h2v4z\"/>\n",
              "    </g>\n",
              "</svg>\n",
              "  </button>\n",
              "\n",
              "<style>\n",
              "  .colab-df-quickchart {\n",
              "      --bg-color: #E8F0FE;\n",
              "      --fill-color: #1967D2;\n",
              "      --hover-bg-color: #E2EBFA;\n",
              "      --hover-fill-color: #174EA6;\n",
              "      --disabled-fill-color: #AAA;\n",
              "      --disabled-bg-color: #DDD;\n",
              "  }\n",
              "\n",
              "  [theme=dark] .colab-df-quickchart {\n",
              "      --bg-color: #3B4455;\n",
              "      --fill-color: #D2E3FC;\n",
              "      --hover-bg-color: #434B5C;\n",
              "      --hover-fill-color: #FFFFFF;\n",
              "      --disabled-bg-color: #3B4455;\n",
              "      --disabled-fill-color: #666;\n",
              "  }\n",
              "\n",
              "  .colab-df-quickchart {\n",
              "    background-color: var(--bg-color);\n",
              "    border: none;\n",
              "    border-radius: 50%;\n",
              "    cursor: pointer;\n",
              "    display: none;\n",
              "    fill: var(--fill-color);\n",
              "    height: 32px;\n",
              "    padding: 0;\n",
              "    width: 32px;\n",
              "  }\n",
              "\n",
              "  .colab-df-quickchart:hover {\n",
              "    background-color: var(--hover-bg-color);\n",
              "    box-shadow: 0 1px 2px rgba(60, 64, 67, 0.3), 0 1px 3px 1px rgba(60, 64, 67, 0.15);\n",
              "    fill: var(--button-hover-fill-color);\n",
              "  }\n",
              "\n",
              "  .colab-df-quickchart-complete:disabled,\n",
              "  .colab-df-quickchart-complete:disabled:hover {\n",
              "    background-color: var(--disabled-bg-color);\n",
              "    fill: var(--disabled-fill-color);\n",
              "    box-shadow: none;\n",
              "  }\n",
              "\n",
              "  .colab-df-spinner {\n",
              "    border: 2px solid var(--fill-color);\n",
              "    border-color: transparent;\n",
              "    border-bottom-color: var(--fill-color);\n",
              "    animation:\n",
              "      spin 1s steps(1) infinite;\n",
              "  }\n",
              "\n",
              "  @keyframes spin {\n",
              "    0% {\n",
              "      border-color: transparent;\n",
              "      border-bottom-color: var(--fill-color);\n",
              "      border-left-color: var(--fill-color);\n",
              "    }\n",
              "    20% {\n",
              "      border-color: transparent;\n",
              "      border-left-color: var(--fill-color);\n",
              "      border-top-color: var(--fill-color);\n",
              "    }\n",
              "    30% {\n",
              "      border-color: transparent;\n",
              "      border-left-color: var(--fill-color);\n",
              "      border-top-color: var(--fill-color);\n",
              "      border-right-color: var(--fill-color);\n",
              "    }\n",
              "    40% {\n",
              "      border-color: transparent;\n",
              "      border-right-color: var(--fill-color);\n",
              "      border-top-color: var(--fill-color);\n",
              "    }\n",
              "    60% {\n",
              "      border-color: transparent;\n",
              "      border-right-color: var(--fill-color);\n",
              "    }\n",
              "    80% {\n",
              "      border-color: transparent;\n",
              "      border-right-color: var(--fill-color);\n",
              "      border-bottom-color: var(--fill-color);\n",
              "    }\n",
              "    90% {\n",
              "      border-color: transparent;\n",
              "      border-bottom-color: var(--fill-color);\n",
              "    }\n",
              "  }\n",
              "</style>\n",
              "\n",
              "  <script>\n",
              "    async function quickchart(key) {\n",
              "      const quickchartButtonEl =\n",
              "        document.querySelector('#' + key + ' button');\n",
              "      quickchartButtonEl.disabled = true;  // To prevent multiple clicks.\n",
              "      quickchartButtonEl.classList.add('colab-df-spinner');\n",
              "      try {\n",
              "        const charts = await google.colab.kernel.invokeFunction(\n",
              "            'suggestCharts', [key], {});\n",
              "      } catch (error) {\n",
              "        console.error('Error during call to suggestCharts:', error);\n",
              "      }\n",
              "      quickchartButtonEl.classList.remove('colab-df-spinner');\n",
              "      quickchartButtonEl.classList.add('colab-df-quickchart-complete');\n",
              "    }\n",
              "    (() => {\n",
              "      let quickchartButtonEl =\n",
              "        document.querySelector('#df-dae47e55-0428-4472-a0ea-4ce0d419724d button');\n",
              "      quickchartButtonEl.style.display =\n",
              "        google.colab.kernel.accessAllowed ? 'block' : 'none';\n",
              "    })();\n",
              "  </script>\n",
              "</div>\n",
              "    </div>\n",
              "  </div>\n"
            ]
          },
          "metadata": {},
          "execution_count": 103
        }
      ]
    },
    {
      "cell_type": "markdown",
      "source": [
        "# **Principal Component Analysis**"
      ],
      "metadata": {
        "id": "hZlZG1xWDjUv"
      }
    },
    {
      "cell_type": "code",
      "source": [
        "from sklearn.decomposition import PCA\n",
        "\n",
        "pca = PCA(n_components=15)\n",
        "principal_components = pca.fit_transform(df.iloc[:,0:22])"
      ],
      "metadata": {
        "id": "yqmlowHO2dFL"
      },
      "execution_count": 104,
      "outputs": []
    },
    {
      "cell_type": "markdown",
      "source": [
        "# **Visualization**"
      ],
      "metadata": {
        "id": "jiikRqY9aGz8"
      }
    },
    {
      "cell_type": "code",
      "source": [
        "import seaborn as srn"
      ],
      "metadata": {
        "id": "PNxm4DWUaMrq"
      },
      "execution_count": 105,
      "outputs": []
    },
    {
      "cell_type": "code",
      "source": [
        "srn.heatmap(df.iloc[::].corr())"
      ],
      "metadata": {
        "colab": {
          "base_uri": "https://localhost:8080/",
          "height": 563
        },
        "id": "tP0kL_F0aMgg",
        "outputId": "a9c23cb9-f6d1-4ba0-b25f-28db8b139cb6"
      },
      "execution_count": 106,
      "outputs": [
        {
          "output_type": "execute_result",
          "data": {
            "text/plain": [
              "<Axes: >"
            ]
          },
          "metadata": {},
          "execution_count": 106
        },
        {
          "output_type": "display_data",
          "data": {
            "text/plain": [
              "<Figure size 640x480 with 2 Axes>"
            ],
            "image/png": "[encoded data removed]"
          },
          "metadata": {}
        }
      ]
    },
    {
      "cell_type": "code",
      "source": [
        "import matplotlib.pyplot as plt"
      ],
      "metadata": {
        "id": "eWLCJw15ajC1"
      },
      "execution_count": 107,
      "outputs": []
    },
    {
      "cell_type": "markdown",
      "source": [
        "# **LinearRegression**"
      ],
      "metadata": {
        "id": "oe1AuefLRv4d"
      }
    },
    {
      "cell_type": "markdown",
      "source": [
        "**Smoker_Type**"
      ],
      "metadata": {
        "id": "ZNGhfZf7R3eB"
      }
    },
    {
      "cell_type": "code",
      "source": [
        "from sklearn.model_selection import train_test_split\n",
        "from sklearn.linear_model import LinearRegression"
      ],
      "metadata": {
        "id": "00UcBNnQRsy7"
      },
      "execution_count": 108,
      "outputs": []
    },
    {
      "cell_type": "code",
      "source": [
        "x = principal_components\n",
        "y = df.SMK_stat_type_cd"
      ],
      "metadata": {
        "id": "sN54r-psR99V"
      },
      "execution_count": 109,
      "outputs": []
    },
    {
      "cell_type": "code",
      "source": [
        "#x.head()"
      ],
      "metadata": {
        "id": "5ohEX0npSBZt"
      },
      "execution_count": 110,
      "outputs": []
    },
    {
      "cell_type": "code",
      "source": [
        "y.head()"
      ],
      "metadata": {
        "colab": {
          "base_uri": "https://localhost:8080/"
        },
        "id": "GFpX8Y3TSQYK",
        "outputId": "e0b2403c-a5a4-417d-a03b-e846cfe39e8a"
      },
      "execution_count": 111,
      "outputs": [
        {
          "output_type": "execute_result",
          "data": {
            "text/plain": [
              "0    1\n",
              "1    3\n",
              "2    1\n",
              "3    1\n",
              "4    1\n",
              "Name: SMK_stat_type_cd, dtype: int64"
            ]
          },
          "metadata": {},
          "execution_count": 111
        }
      ]
    },
    {
      "cell_type": "code",
      "source": [
        "x_train, x_test, y_train, y_test = train_test_split(x,y, random_state = 0, test_size = 0.2)"
      ],
      "metadata": {
        "id": "B77gI4MnSRej"
      },
      "execution_count": 112,
      "outputs": []
    },
    {
      "cell_type": "code",
      "source": [
        "lr = LinearRegression()\n",
        "lr = lr.fit(x_train, y_train)\n",
        "lr.score(x_test, y_test)"
      ],
      "metadata": {
        "colab": {
          "base_uri": "https://localhost:8080/"
        },
        "id": "_MEb8WMOSUZ0",
        "outputId": "9619339e-197e-412c-bb9a-01c1c0145133"
      },
      "execution_count": 113,
      "outputs": [
        {
          "output_type": "execute_result",
          "data": {
            "text/plain": [
              "0.3679367970483486"
            ]
          },
          "metadata": {},
          "execution_count": 113
        }
      ]
    },
    {
      "cell_type": "code",
      "source": [
        "lr.predict(x_test)"
      ],
      "metadata": {
        "colab": {
          "base_uri": "https://localhost:8080/"
        },
        "id": "Q8tl-xpSSbhC",
        "outputId": "c6848f78-d0ea-4739-a857-eb8324ca770a"
      },
      "execution_count": 114,
      "outputs": [
        {
          "output_type": "execute_result",
          "data": {
            "text/plain": [
              "array([2.13679255, 1.13615999, 2.10046401, ..., 1.10900498, 2.16100022,\n",
              "       0.93757909])"
            ]
          },
          "metadata": {},
          "execution_count": 114
        }
      ]
    },
    {
      "cell_type": "markdown",
      "source": [
        "**Dinker_Type**"
      ],
      "metadata": {
        "id": "zrHJLRXwSkNV"
      }
    },
    {
      "cell_type": "code",
      "source": [
        "x = principal_components\n",
        "y = df.DRK_YN"
      ],
      "metadata": {
        "id": "5OdMM3K9SgGv"
      },
      "execution_count": 115,
      "outputs": []
    },
    {
      "cell_type": "code",
      "source": [
        "#x.head()"
      ],
      "metadata": {
        "id": "dWaZrZ9oStYf"
      },
      "execution_count": 116,
      "outputs": []
    },
    {
      "cell_type": "code",
      "source": [
        "y.head()"
      ],
      "metadata": {
        "colab": {
          "base_uri": "https://localhost:8080/"
        },
        "id": "9s2BwkhDSxO-",
        "outputId": "c127afac-05be-4fc5-f786-2d350db3896a"
      },
      "execution_count": 117,
      "outputs": [
        {
          "output_type": "execute_result",
          "data": {
            "text/plain": [
              "0    1\n",
              "1    0\n",
              "2    0\n",
              "3    0\n",
              "4    0\n",
              "Name: DRK_YN, dtype: int64"
            ]
          },
          "metadata": {},
          "execution_count": 117
        }
      ]
    },
    {
      "cell_type": "code",
      "source": [
        "x_train, x_test, y_train, y_test = train_test_split(x,y, random_state = 0, test_size = 0.2)"
      ],
      "metadata": {
        "id": "hfRIpqXGSqQY"
      },
      "execution_count": 118,
      "outputs": []
    },
    {
      "cell_type": "code",
      "source": [
        "lr = LinearRegression()\n",
        "lr = lr.fit(x_train, y_train)\n",
        "lr.score(x_test, y_test)"
      ],
      "metadata": {
        "colab": {
          "base_uri": "https://localhost:8080/"
        },
        "id": "RtDq1qzwSzBT",
        "outputId": "1702624d-0a0a-49a4-9f2a-b8d20b90eb95"
      },
      "execution_count": 119,
      "outputs": [
        {
          "output_type": "execute_result",
          "data": {
            "text/plain": [
              "0.2167859007517532"
            ]
          },
          "metadata": {},
          "execution_count": 119
        }
      ]
    },
    {
      "cell_type": "code",
      "source": [
        "lr.predict(x_test)"
      ],
      "metadata": {
        "colab": {
          "base_uri": "https://localhost:8080/"
        },
        "id": "Yq8oAonrS6hf",
        "outputId": "1818f3d9-f12c-4cdf-ac0f-5b78eec10c0f"
      },
      "execution_count": 120,
      "outputs": [
        {
          "output_type": "execute_result",
          "data": {
            "text/plain": [
              "array([0.80514315, 0.28619097, 0.76116685, ..., 0.14069461, 0.76605324,\n",
              "       0.12329501])"
            ]
          },
          "metadata": {},
          "execution_count": 120
        }
      ]
    },
    {
      "cell_type": "markdown",
      "source": [
        "# **LogisticRegression**"
      ],
      "metadata": {
        "id": "ZEF8hSVfTEqw"
      }
    },
    {
      "cell_type": "code",
      "source": [
        "from sklearn.linear_model import LogisticRegression"
      ],
      "metadata": {
        "id": "bqECxttRTCq2"
      },
      "execution_count": 121,
      "outputs": []
    },
    {
      "cell_type": "code",
      "source": [
        "x = principal_components\n",
        "y = df.SMK_stat_type_cd"
      ],
      "metadata": {
        "id": "wdmrPEDhTK1t"
      },
      "execution_count": 122,
      "outputs": []
    },
    {
      "cell_type": "code",
      "source": [
        "#x.head()"
      ],
      "metadata": {
        "id": "u-NaDXVETM4r"
      },
      "execution_count": 123,
      "outputs": []
    },
    {
      "cell_type": "code",
      "source": [
        "y.head()"
      ],
      "metadata": {
        "colab": {
          "base_uri": "https://localhost:8080/"
        },
        "id": "nqDbVSbTTN_-",
        "outputId": "d87ff07e-e705-47d5-90ce-0a9c909075b7"
      },
      "execution_count": 124,
      "outputs": [
        {
          "output_type": "execute_result",
          "data": {
            "text/plain": [
              "0    1\n",
              "1    3\n",
              "2    1\n",
              "3    1\n",
              "4    1\n",
              "Name: SMK_stat_type_cd, dtype: int64"
            ]
          },
          "metadata": {},
          "execution_count": 124
        }
      ]
    },
    {
      "cell_type": "code",
      "source": [
        "x_train, x_test, y_train, y_test = train_test_split(x,y, random_state = 0, test_size = 0.2)"
      ],
      "metadata": {
        "id": "6n5fBURgUwgN"
      },
      "execution_count": 125,
      "outputs": []
    },
    {
      "cell_type": "code",
      "source": [
        "lr = LogisticRegression()\n",
        "lr = lr.fit(x_train, y_train)\n",
        "lr.score(x_test, y_test)"
      ],
      "metadata": {
        "colab": {
          "base_uri": "https://localhost:8080/"
        },
        "id": "fNdEac76TPf-",
        "outputId": "99cbe8fd-c5ae-4baf-896b-4334f08cc455"
      },
      "execution_count": 126,
      "outputs": [
        {
          "output_type": "execute_result",
          "data": {
            "text/plain": [
              "0.6737411967613663"
            ]
          },
          "metadata": {},
          "execution_count": 126
        }
      ]
    },
    {
      "cell_type": "code",
      "source": [
        "lr.predict(x_test)"
      ],
      "metadata": {
        "colab": {
          "base_uri": "https://localhost:8080/"
        },
        "id": "BXGf9cSkTU4K",
        "outputId": "6f23e2c1-ce90-421c-abb3-9dd1e21a03ad"
      },
      "execution_count": 127,
      "outputs": [
        {
          "output_type": "execute_result",
          "data": {
            "text/plain": [
              "array([3, 1, 3, ..., 1, 3, 1])"
            ]
          },
          "metadata": {},
          "execution_count": 127
        }
      ]
    },
    {
      "cell_type": "markdown",
      "source": [
        "**Dinker_Type**"
      ],
      "metadata": {
        "id": "fZwwWnMZTZSo"
      }
    },
    {
      "cell_type": "code",
      "source": [
        "x = principal_components\n",
        "y = df.DRK_YN"
      ],
      "metadata": {
        "id": "yyLSv8CATX9X"
      },
      "execution_count": 128,
      "outputs": []
    },
    {
      "cell_type": "code",
      "source": [
        "x"
      ],
      "metadata": {
        "colab": {
          "base_uri": "https://localhost:8080/"
        },
        "id": "gKcGLN08TfUg",
        "outputId": "bcb1e30c-18f1-45c4-e0e1-670ba1c67183"
      },
      "execution_count": 129,
      "outputs": [
        {
          "output_type": "execute_result",
          "data": {
            "text/plain": [
              "array([[-0.51679893, -0.16149823,  0.07054733, ..., -0.01392592,\n",
              "         0.00067361, -0.00984009],\n",
              "       [-0.56019274, -0.2454399 ,  0.13371098, ...,  0.01012932,\n",
              "         0.01359354,  0.0214408 ],\n",
              "       [-0.48582315, -0.09224713,  0.0201467 , ...,  0.03409034,\n",
              "        -0.01021832, -0.04169884],\n",
              "       ...,\n",
              "       [-0.50022706, -0.11690146,  0.03993888, ..., -0.01180882,\n",
              "        -0.01575105,  0.01967117],\n",
              "       [ 0.51712471, -0.29742997,  0.17385652, ...,  0.05226952,\n",
              "         0.00910659, -0.03284025],\n",
              "       [-0.49985206, -0.05209479, -0.01182449, ..., -0.04824966,\n",
              "        -0.00548195,  0.02764855]])"
            ]
          },
          "metadata": {},
          "execution_count": 129
        }
      ]
    },
    {
      "cell_type": "code",
      "source": [
        "y.head()"
      ],
      "metadata": {
        "colab": {
          "base_uri": "https://localhost:8080/"
        },
        "id": "i2eAKgO5TgdJ",
        "outputId": "728cb096-bbfd-4256-d230-3c037a1e1943"
      },
      "execution_count": 130,
      "outputs": [
        {
          "output_type": "execute_result",
          "data": {
            "text/plain": [
              "0    1\n",
              "1    0\n",
              "2    0\n",
              "3    0\n",
              "4    0\n",
              "Name: DRK_YN, dtype: int64"
            ]
          },
          "metadata": {},
          "execution_count": 130
        }
      ]
    },
    {
      "cell_type": "code",
      "source": [
        "x_train, x_test, y_train, y_test = train_test_split(x,y, random_state = 0, test_size = 0.2)"
      ],
      "metadata": {
        "id": "rQtUkHsHUtFg"
      },
      "execution_count": 131,
      "outputs": []
    },
    {
      "cell_type": "code",
      "source": [
        "lr = LogisticRegression()\n",
        "lr = lr.fit(x_train, y_train)\n",
        "lr.score(x_test, y_test)"
      ],
      "metadata": {
        "colab": {
          "base_uri": "https://localhost:8080/"
        },
        "id": "0TcdTJuQThRk",
        "outputId": "b78db3a5-a0bd-43a0-c634-d3ea634157a1"
      },
      "execution_count": 132,
      "outputs": [
        {
          "output_type": "execute_result",
          "data": {
            "text/plain": [
              "0.7049298136348393"
            ]
          },
          "metadata": {},
          "execution_count": 132
        }
      ]
    },
    {
      "cell_type": "code",
      "source": [
        "lr.predict(x_test)"
      ],
      "metadata": {
        "colab": {
          "base_uri": "https://localhost:8080/"
        },
        "id": "OugdB6PETkp-",
        "outputId": "f3f103c9-be54-450f-8e93-a4d189ca79fb"
      },
      "execution_count": 133,
      "outputs": [
        {
          "output_type": "execute_result",
          "data": {
            "text/plain": [
              "array([1, 0, 1, ..., 0, 1, 0])"
            ]
          },
          "metadata": {},
          "execution_count": 133
        }
      ]
    },
    {
      "cell_type": "markdown",
      "source": [
        "# **K_Nearest_NeighborsClassifier**"
      ],
      "metadata": {
        "id": "QKIZngZhTofv"
      }
    },
    {
      "cell_type": "markdown",
      "source": [
        "**Smoker_Type**"
      ],
      "metadata": {
        "id": "_2AFpqITT1Su"
      }
    },
    {
      "cell_type": "code",
      "source": [
        "from sklearn.neighbors import KNeighborsClassifier"
      ],
      "metadata": {
        "id": "AGKMtbXCTm2o"
      },
      "execution_count": 134,
      "outputs": []
    },
    {
      "cell_type": "code",
      "source": [
        "x = principal_components\n",
        "y = df.SMK_stat_type_cd"
      ],
      "metadata": {
        "id": "fImBf9_jT4VO"
      },
      "execution_count": 135,
      "outputs": []
    },
    {
      "cell_type": "code",
      "source": [
        "#x.head()"
      ],
      "metadata": {
        "id": "9DLYQvFnT7Pm"
      },
      "execution_count": 136,
      "outputs": []
    },
    {
      "cell_type": "code",
      "source": [
        "y.head()"
      ],
      "metadata": {
        "colab": {
          "base_uri": "https://localhost:8080/"
        },
        "id": "vwfJeP6QT8IJ",
        "outputId": "e9a72bdf-e901-41c6-c730-825fbe9036a6"
      },
      "execution_count": 137,
      "outputs": [
        {
          "output_type": "execute_result",
          "data": {
            "text/plain": [
              "0    1\n",
              "1    3\n",
              "2    1\n",
              "3    1\n",
              "4    1\n",
              "Name: SMK_stat_type_cd, dtype: int64"
            ]
          },
          "metadata": {},
          "execution_count": 137
        }
      ]
    },
    {
      "cell_type": "code",
      "source": [
        "x_train, x_test, y_train, y_test = train_test_split(x,y, random_state = 0, test_size = 0.2)"
      ],
      "metadata": {
        "id": "XtCeALLkUd6p"
      },
      "execution_count": 138,
      "outputs": []
    },
    {
      "cell_type": "code",
      "source": [
        "knn = KNeighborsClassifier()\n",
        "knn = knn.fit(x_train, y_train)\n",
        "knn.score(x_test, y_test)"
      ],
      "metadata": {
        "colab": {
          "base_uri": "https://localhost:8080/"
        },
        "id": "kCb0jAF8T9hH",
        "outputId": "8585ea68-880f-4dbd-8a48-6ec110bc8674"
      },
      "execution_count": 139,
      "outputs": [
        {
          "output_type": "execute_result",
          "data": {
            "text/plain": [
              "0.6409236813107843"
            ]
          },
          "metadata": {},
          "execution_count": 139
        }
      ]
    },
    {
      "cell_type": "code",
      "source": [
        "knn.predict(x_test)"
      ],
      "metadata": {
        "colab": {
          "base_uri": "https://localhost:8080/"
        },
        "id": "PpqQVnUuUHYy",
        "outputId": "6a7d4940-3ba6-43d3-d806-9f1441d76abf"
      },
      "execution_count": 140,
      "outputs": [
        {
          "output_type": "execute_result",
          "data": {
            "text/plain": [
              "array([2, 1, 1, ..., 1, 2, 1])"
            ]
          },
          "metadata": {},
          "execution_count": 140
        }
      ]
    },
    {
      "cell_type": "markdown",
      "source": [
        "**Drinker_Type**"
      ],
      "metadata": {
        "id": "287waZgtUMuE"
      }
    },
    {
      "cell_type": "code",
      "source": [
        "x = principal_components\n",
        "y = df.DRK_YN"
      ],
      "metadata": {
        "id": "EL7A4qWwURRR"
      },
      "execution_count": 141,
      "outputs": []
    },
    {
      "cell_type": "code",
      "source": [
        "#x.head()"
      ],
      "metadata": {
        "id": "5V-OqeusUXRc"
      },
      "execution_count": 142,
      "outputs": []
    },
    {
      "cell_type": "code",
      "source": [
        "y.head()"
      ],
      "metadata": {
        "colab": {
          "base_uri": "https://localhost:8080/"
        },
        "id": "w2wER7_zUZYQ",
        "outputId": "54617297-fae2-43b7-9a1f-9d69670dc0de"
      },
      "execution_count": 143,
      "outputs": [
        {
          "output_type": "execute_result",
          "data": {
            "text/plain": [
              "0    1\n",
              "1    0\n",
              "2    0\n",
              "3    0\n",
              "4    0\n",
              "Name: DRK_YN, dtype: int64"
            ]
          },
          "metadata": {},
          "execution_count": 143
        }
      ]
    },
    {
      "cell_type": "code",
      "source": [
        "x_train, x_test, y_train, y_test = train_test_split(x,y, random_state = 0, test_size = 0.2)"
      ],
      "metadata": {
        "id": "T2WC018LUa8m"
      },
      "execution_count": 144,
      "outputs": []
    },
    {
      "cell_type": "code",
      "source": [
        "knn = KNeighborsClassifier()\n",
        "knn = knn.fit(x_train, y_train)\n",
        "knn.score(x_test, y_test)"
      ],
      "metadata": {
        "colab": {
          "base_uri": "https://localhost:8080/"
        },
        "id": "c89HNnzXUoxl",
        "outputId": "cb5a5514-d529-4e93-8f8e-335042ccd916"
      },
      "execution_count": 145,
      "outputs": [
        {
          "output_type": "execute_result",
          "data": {
            "text/plain": [
              "0.6675609639246874"
            ]
          },
          "metadata": {},
          "execution_count": 145
        }
      ]
    },
    {
      "cell_type": "code",
      "source": [
        "knn.predict(x_test)"
      ],
      "metadata": {
        "colab": {
          "base_uri": "https://localhost:8080/"
        },
        "id": "8ZmdFKK3VHzQ",
        "outputId": "02b64b52-50a5-46f6-cda0-1d8b5f12db4a"
      },
      "execution_count": 56,
      "outputs": [
        {
          "output_type": "execute_result",
          "data": {
            "text/plain": [
              "array([0, 0, 0, ..., 1, 1, 0])"
            ]
          },
          "metadata": {},
          "execution_count": 56
        }
      ]
    },
    {
      "cell_type": "markdown",
      "source": [
        "# **NaiveBayes**"
      ],
      "metadata": {
        "id": "IkHYTuULVIte"
      }
    },
    {
      "cell_type": "markdown",
      "source": [
        "**Smoker_Type**"
      ],
      "metadata": {
        "id": "RY86ql3yWGgy"
      }
    },
    {
      "cell_type": "code",
      "source": [
        "from sklearn.naive_bayes import GaussianNB"
      ],
      "metadata": {
        "id": "Rt2mL-onWDSg"
      },
      "execution_count": 57,
      "outputs": []
    },
    {
      "cell_type": "code",
      "source": [
        "x = principal_components\n",
        "y = df.SMK_stat_type_cd"
      ],
      "metadata": {
        "id": "Omk7AqIbWCnj"
      },
      "execution_count": 58,
      "outputs": []
    },
    {
      "cell_type": "code",
      "source": [
        "x_train, x_test, y_train, y_test = train_test_split(x,y, random_state = 0, test_size = 0.2)"
      ],
      "metadata": {
        "id": "cWYJbNgFWNxB"
      },
      "execution_count": 59,
      "outputs": []
    },
    {
      "cell_type": "code",
      "source": [
        "nb = GaussianNB()\n",
        "nb = nb.fit(x_train, y_train)\n",
        "nb.score(x_test, y_test)"
      ],
      "metadata": {
        "colab": {
          "base_uri": "https://localhost:8080/"
        },
        "id": "ECc1cWtzWQdO",
        "outputId": "2166b1f5-c32e-4e60-8fff-a9b08dccd598"
      },
      "execution_count": 60,
      "outputs": [
        {
          "output_type": "execute_result",
          "data": {
            "text/plain": [
              "0.6540758959943781"
            ]
          },
          "metadata": {},
          "execution_count": 60
        }
      ]
    },
    {
      "cell_type": "code",
      "source": [
        "nb.predict(x_test)"
      ],
      "metadata": {
        "colab": {
          "base_uri": "https://localhost:8080/"
        },
        "id": "6kcYyDKcWVON",
        "outputId": "6a0f1234-134a-49c8-e487-efc5f8c54d84"
      },
      "execution_count": 61,
      "outputs": [
        {
          "output_type": "execute_result",
          "data": {
            "text/plain": [
              "array([1, 3, 1, ..., 1, 3, 3])"
            ]
          },
          "metadata": {},
          "execution_count": 61
        }
      ]
    },
    {
      "cell_type": "markdown",
      "source": [
        "**Drinker_Type**"
      ],
      "metadata": {
        "id": "DlIfjmv6Wdw7"
      }
    },
    {
      "cell_type": "code",
      "source": [
        "x = principal_components\n",
        "y = df.DRK_YN"
      ],
      "metadata": {
        "id": "si9X8TrHWX6D"
      },
      "execution_count": 62,
      "outputs": []
    },
    {
      "cell_type": "code",
      "source": [
        "x_train, x_test, y_train, y_test = train_test_split(x,y, random_state = 0, test_size = 0.2)"
      ],
      "metadata": {
        "id": "uw0ZD2orWjql"
      },
      "execution_count": 63,
      "outputs": []
    },
    {
      "cell_type": "code",
      "source": [
        "nb = GaussianNB()\n",
        "nb = nb.fit(x_train, y_train)\n",
        "nb.score(x_test, y_test)"
      ],
      "metadata": {
        "colab": {
          "base_uri": "https://localhost:8080/"
        },
        "id": "Nc1DLU4zWlMW",
        "outputId": "542a7573-e673-4ccd-a8bd-2fdd93fd1e71"
      },
      "execution_count": 64,
      "outputs": [
        {
          "output_type": "execute_result",
          "data": {
            "text/plain": [
              "0.6695361911454674"
            ]
          },
          "metadata": {},
          "execution_count": 64
        }
      ]
    },
    {
      "cell_type": "code",
      "source": [
        "nb.predict(x_test)"
      ],
      "metadata": {
        "colab": {
          "base_uri": "https://localhost:8080/"
        },
        "id": "d6sGHJ4LWnCN",
        "outputId": "dabea645-03f7-49aa-e727-34127edafb8b"
      },
      "execution_count": 65,
      "outputs": [
        {
          "output_type": "execute_result",
          "data": {
            "text/plain": [
              "array([1, 1, 0, ..., 1, 1, 1])"
            ]
          },
          "metadata": {},
          "execution_count": 65
        }
      ]
    },
    {
      "cell_type": "markdown",
      "source": [
        "# **Decision_Tree**"
      ],
      "metadata": {
        "id": "wkyHbYJQWrN_"
      }
    },
    {
      "cell_type": "markdown",
      "source": [
        "**Smoker_Type**"
      ],
      "metadata": {
        "id": "BqtYTGPaWrBs"
      }
    },
    {
      "cell_type": "code",
      "source": [
        "from sklearn.tree import DecisionTreeClassifier"
      ],
      "metadata": {
        "id": "2Ou3a08oWocE"
      },
      "execution_count": 66,
      "outputs": []
    },
    {
      "cell_type": "code",
      "source": [
        "x = principal_components\n",
        "y = df.SMK_stat_type_cd"
      ],
      "metadata": {
        "id": "fb2zeWaBW48U"
      },
      "execution_count": 67,
      "outputs": []
    },
    {
      "cell_type": "code",
      "source": [
        "x_train, x_test, y_train, y_test = train_test_split(x,y, random_state = 0, test_size = 0.2)"
      ],
      "metadata": {
        "id": "TTnQEbNMW9n6"
      },
      "execution_count": 68,
      "outputs": []
    },
    {
      "cell_type": "code",
      "source": [
        "dt = DecisionTreeClassifier()\n",
        "dt = dt.fit(x_train, y_train)\n",
        "dt.score(x_test, y_test)"
      ],
      "metadata": {
        "colab": {
          "base_uri": "https://localhost:8080/"
        },
        "id": "yxFNGwtCW_3X",
        "outputId": "5ee73097-4795-42eb-97ff-527e3ad35b6b"
      },
      "execution_count": 69,
      "outputs": [
        {
          "output_type": "execute_result",
          "data": {
            "text/plain": [
              "0.6066408995080815"
            ]
          },
          "metadata": {},
          "execution_count": 69
        }
      ]
    },
    {
      "cell_type": "code",
      "source": [
        "dt.predict(x_test)"
      ],
      "metadata": {
        "colab": {
          "base_uri": "https://localhost:8080/"
        },
        "id": "xph_QEqnXIOo",
        "outputId": "631fdef1-ab90-4ff7-9bc3-3a8bc7da2e39"
      },
      "execution_count": 70,
      "outputs": [
        {
          "output_type": "execute_result",
          "data": {
            "text/plain": [
              "array([1, 3, 1, ..., 1, 3, 3])"
            ]
          },
          "metadata": {},
          "execution_count": 70
        }
      ]
    },
    {
      "cell_type": "markdown",
      "source": [
        "**Drinker_Type**"
      ],
      "metadata": {
        "id": "SM3RL299XMVu"
      }
    },
    {
      "cell_type": "code",
      "source": [
        "x = principal_components\n",
        "y = df.DRK_YN"
      ],
      "metadata": {
        "id": "hCDENJdUXK99"
      },
      "execution_count": 71,
      "outputs": []
    },
    {
      "cell_type": "code",
      "source": [
        "x_train, x_test, y_train, y_test = train_test_split(x,y, random_state = 0, test_size = 0.2)"
      ],
      "metadata": {
        "id": "TtRPBI47Xa4f"
      },
      "execution_count": 72,
      "outputs": []
    },
    {
      "cell_type": "code",
      "source": [
        "dt = DecisionTreeClassifier()\n",
        "dt = dt.fit(x_train, y_train)\n",
        "dt.score(x_test, y_test)"
      ],
      "metadata": {
        "colab": {
          "base_uri": "https://localhost:8080/"
        },
        "id": "DKLuABI7Xc2E",
        "outputId": "58c55a43-efb7-4be4-a64c-5c2cdfe18614"
      },
      "execution_count": 73,
      "outputs": [
        {
          "output_type": "execute_result",
          "data": {
            "text/plain": [
              "0.6124385101897399"
            ]
          },
          "metadata": {},
          "execution_count": 73
        }
      ]
    },
    {
      "cell_type": "code",
      "source": [
        "dt.predict(x_test)"
      ],
      "metadata": {
        "colab": {
          "base_uri": "https://localhost:8080/"
        },
        "id": "WCiZYmbZXej6",
        "outputId": "02e7afef-ef1b-4d4c-8fb1-a45cdb47f316"
      },
      "execution_count": 74,
      "outputs": [
        {
          "output_type": "execute_result",
          "data": {
            "text/plain": [
              "array([0, 1, 0, ..., 1, 0, 1])"
            ]
          },
          "metadata": {},
          "execution_count": 74
        }
      ]
    },
    {
      "cell_type": "markdown",
      "source": [
        "# **Randomforest**"
      ],
      "metadata": {
        "id": "TKfD0OQeXg7B"
      }
    },
    {
      "cell_type": "markdown",
      "source": [
        "**Smoker_Type**"
      ],
      "metadata": {
        "id": "Lc1MrVXmXoRM"
      }
    },
    {
      "cell_type": "code",
      "source": [
        "from sklearn.ensemble import RandomForestClassifier"
      ],
      "metadata": {
        "id": "5UEZD4rMXgOp"
      },
      "execution_count": 75,
      "outputs": []
    },
    {
      "cell_type": "code",
      "source": [
        "x = principal_components\n",
        "y = df.SMK_stat_type_cd"
      ],
      "metadata": {
        "id": "kbaSsiK1Xtnk"
      },
      "execution_count": 76,
      "outputs": []
    },
    {
      "cell_type": "code",
      "source": [
        "x_train, x_test, y_train, y_test = train_test_split(x,y, random_state = 0, test_size = 0.2)"
      ],
      "metadata": {
        "id": "pFV1gQJuXvxk"
      },
      "execution_count": 77,
      "outputs": []
    },
    {
      "cell_type": "code",
      "source": [
        "rf = RandomForestClassifier()\n",
        "rf = rf.fit(x_train, y_train)\n",
        "rf.score(x_test, y_test)"
      ],
      "metadata": {
        "colab": {
          "base_uri": "https://localhost:8080/"
        },
        "id": "KfNSH-S7XxlG",
        "outputId": "c443ed0b-04a6-4a6d-bbc1-76367340cb38"
      },
      "execution_count": 78,
      "outputs": [
        {
          "output_type": "execute_result",
          "data": {
            "text/plain": [
              "0.6758608573436402"
            ]
          },
          "metadata": {},
          "execution_count": 78
        }
      ]
    },
    {
      "cell_type": "code",
      "source": [
        "rf.predict(x_test)"
      ],
      "metadata": {
        "colab": {
          "base_uri": "https://localhost:8080/"
        },
        "id": "GfiyXT3JX2Eg",
        "outputId": "9cd76cec-b311-4e1b-91df-8b2d2a11e207"
      },
      "execution_count": 79,
      "outputs": [
        {
          "output_type": "execute_result",
          "data": {
            "text/plain": [
              "array([1, 3, 1, ..., 1, 3, 3])"
            ]
          },
          "metadata": {},
          "execution_count": 79
        }
      ]
    },
    {
      "cell_type": "markdown",
      "source": [
        "**Drinker_Type**"
      ],
      "metadata": {
        "id": "QdnpTcyXX5XF"
      }
    },
    {
      "cell_type": "code",
      "source": [
        "x = principal_components\n",
        "y = df.DRK_YN"
      ],
      "metadata": {
        "id": "-3z_4d3BYEOJ"
      },
      "execution_count": 80,
      "outputs": []
    },
    {
      "cell_type": "code",
      "source": [
        "x_train, x_test, y_train, y_test = train_test_split(x,y, random_state = 0, test_size = 0.2)"
      ],
      "metadata": {
        "id": "w6XX_5iwYE9a"
      },
      "execution_count": 81,
      "outputs": []
    },
    {
      "cell_type": "code",
      "source": [
        "rf = RandomForestClassifier()\n",
        "rf = rf.fit(x_train, y_train)\n",
        "rf.score(x_test, y_test)"
      ],
      "metadata": {
        "colab": {
          "base_uri": "https://localhost:8080/"
        },
        "id": "a_eWy6dBYG0U",
        "outputId": "863efbc1-b07c-44db-ddda-812e456fb764"
      },
      "execution_count": 82,
      "outputs": [
        {
          "output_type": "execute_result",
          "data": {
            "text/plain": [
              "0.6971187631763879"
            ]
          },
          "metadata": {},
          "execution_count": 82
        }
      ]
    },
    {
      "cell_type": "code",
      "source": [
        "rf.predict(x_test)"
      ],
      "metadata": {
        "colab": {
          "base_uri": "https://localhost:8080/"
        },
        "id": "XS1vTh5mYIZh",
        "outputId": "512d3c66-45fa-473e-dc85-f7245262e36c"
      },
      "execution_count": 83,
      "outputs": [
        {
          "output_type": "execute_result",
          "data": {
            "text/plain": [
              "array([0, 1, 0, ..., 1, 1, 1])"
            ]
          },
          "metadata": {},
          "execution_count": 83
        }
      ]
    },
    {
      "cell_type": "markdown",
      "source": [
        "# **AdaBoostClassifier**"
      ],
      "metadata": {
        "id": "uVF32CpLptnl"
      }
    },
    {
      "cell_type": "markdown",
      "source": [
        "**Smoker_Type**"
      ],
      "metadata": {
        "id": "7mRP3HK_qCsS"
      }
    },
    {
      "cell_type": "code",
      "source": [
        "from sklearn.ensemble import AdaBoostClassifier"
      ],
      "metadata": {
        "id": "tZYsx3MJYWJW"
      },
      "execution_count": 160,
      "outputs": []
    },
    {
      "cell_type": "code",
      "source": [
        "x = principal_components\n",
        "y = df.SMK_stat_type_cd"
      ],
      "metadata": {
        "id": "DSzT67UAAjNm"
      },
      "execution_count": 161,
      "outputs": []
    },
    {
      "cell_type": "code",
      "source": [
        "x_train, x_test, y_train, y_test = train_test_split(x,y, random_state = 0, test_size = 0.2)"
      ],
      "metadata": {
        "id": "PuBCtkI3A7oR"
      },
      "execution_count": 162,
      "outputs": []
    },
    {
      "cell_type": "code",
      "source": [
        "ada = AdaBoostClassifier(n_estimators= 100, learning_rate=1)"
      ],
      "metadata": {
        "id": "T17xy4dUBTCR"
      },
      "execution_count": 163,
      "outputs": []
    },
    {
      "cell_type": "code",
      "source": [
        "ada.fit(x_train, y_train)"
      ],
      "metadata": {
        "id": "22iYOkgLDTEr",
        "outputId": "9242ab2e-fedf-43a6-837c-2f97da28213f",
        "colab": {
          "base_uri": "https://localhost:8080/",
          "height": 75
        }
      },
      "execution_count": 171,
      "outputs": [
        {
          "output_type": "execute_result",
          "data": {
            "text/plain": [
              "AdaBoostClassifier(learning_rate=1, n_estimators=100)"
            ],
            "text/html": [
              "<style>#sk-container-id-1 {color: black;background-color: white;}#sk-container-id-1 pre{padding: 0;}#sk-container-id-1 div.sk-toggleable {background-color: white;}#sk-container-id-1 label.sk-toggleable__label {cursor: pointer;display: block;width: 100%;margin-bottom: 0;padding: 0.3em;box-sizing: border-box;text-align: center;}#sk-container-id-1 label.sk-toggleable__label-arrow:before {content: \"▸\";float: left;margin-right: 0.25em;color: #696969;}#sk-container-id-1 label.sk-toggleable__label-arrow:hover:before {color: black;}#sk-container-id-1 div.sk-estimator:hover label.sk-toggleable__label-arrow:before {color: black;}#sk-container-id-1 div.sk-toggleable__content {max-height: 0;max-width: 0;overflow: hidden;text-align: left;background-color: #f0f8ff;}#sk-container-id-1 div.sk-toggleable__content pre {margin: 0.2em;color: black;border-radius: 0.25em;background-color: #f0f8ff;}#sk-container-id-1 input.sk-toggleable__control:checked~div.sk-toggleable__content {max-height: 200px;max-width: 100%;overflow: auto;}#sk-container-id-1 input.sk-toggleable__control:checked~label.sk-toggleable__label-arrow:before {content: \"▾\";}#sk-container-id-1 div.sk-estimator input.sk-toggleable__control:checked~label.sk-toggleable__label {background-color: #d4ebff;}#sk-container-id-1 div.sk-label input.sk-toggleable__control:checked~label.sk-toggleable__label {background-color: #d4ebff;}#sk-container-id-1 input.sk-hidden--visually {border: 0;clip: rect(1px 1px 1px 1px);clip: rect(1px, 1px, 1px, 1px);height: 1px;margin: -1px;overflow: hidden;padding: 0;position: absolute;width: 1px;}#sk-container-id-1 div.sk-estimator {font-family: monospace;background-color: #f0f8ff;border: 1px dotted black;border-radius: 0.25em;box-sizing: border-box;margin-bottom: 0.5em;}#sk-container-id-1 div.sk-estimator:hover {background-color: #d4ebff;}#sk-container-id-1 div.sk-parallel-item::after {content: \"\";width: 100%;border-bottom: 1px solid gray;flex-grow: 1;}#sk-container-id-1 div.sk-label:hover label.sk-toggleable__label {background-color: #d4ebff;}#sk-container-id-1 div.sk-serial::before {content: \"\";position: absolute;border-left: 1px solid gray;box-sizing: border-box;top: 0;bottom: 0;left: 50%;z-index: 0;}#sk-container-id-1 div.sk-serial {display: flex;flex-direction: column;align-items: center;background-color: white;padding-right: 0.2em;padding-left: 0.2em;position: relative;}#sk-container-id-1 div.sk-item {position: relative;z-index: 1;}#sk-container-id-1 div.sk-parallel {display: flex;align-items: stretch;justify-content: center;background-color: white;position: relative;}#sk-container-id-1 div.sk-item::before, #sk-container-id-1 div.sk-parallel-item::before {content: \"\";position: absolute;border-left: 1px solid gray;box-sizing: border-box;top: 0;bottom: 0;left: 50%;z-index: -1;}#sk-container-id-1 div.sk-parallel-item {display: flex;flex-direction: column;z-index: 1;position: relative;background-color: white;}#sk-container-id-1 div.sk-parallel-item:first-child::after {align-self: flex-end;width: 50%;}#sk-container-id-1 div.sk-parallel-item:last-child::after {align-self: flex-start;width: 50%;}#sk-container-id-1 div.sk-parallel-item:only-child::after {width: 0;}#sk-container-id-1 div.sk-dashed-wrapped {border: 1px dashed gray;margin: 0 0.4em 0.5em 0.4em;box-sizing: border-box;padding-bottom: 0.4em;background-color: white;}#sk-container-id-1 div.sk-label label {font-family: monospace;font-weight: bold;display: inline-block;line-height: 1.2em;}#sk-container-id-1 div.sk-label-container {text-align: center;}#sk-container-id-1 div.sk-container {/* jupyter's `normalize.less` sets `[hidden] { display: none; }` but bootstrap.min.css set `[hidden] { display: none !important; }` so we also need the `!important` here to be able to override the default hidden behavior on the sphinx rendered scikit-learn.org. See: https://github.com/scikit-learn/scikit-learn/issues/21755 */display: inline-block !important;position: relative;}#sk-container-id-1 div.sk-text-repr-fallback {display: none;}</style><div id=\"sk-container-id-1\" class=\"sk-top-container\"><div class=\"sk-text-repr-fallback\"><pre>AdaBoostClassifier(learning_rate=1, n_estimators=100)</pre><b>In a Jupyter environment, please rerun this cell to show the HTML representation or trust the notebook. <br />On GitHub, the HTML representation is unable to render, please try loading this page with nbviewer.org.</b></div><div class=\"sk-container\" hidden><div class=\"sk-item\"><div class=\"sk-estimator sk-toggleable\"><input class=\"sk-toggleable__control sk-hidden--visually\" id=\"sk-estimator-id-1\" type=\"checkbox\" checked><label for=\"sk-estimator-id-1\" class=\"sk-toggleable__label sk-toggleable__label-arrow\">AdaBoostClassifier</label><div class=\"sk-toggleable__content\"><pre>AdaBoostClassifier(learning_rate=1, n_estimators=100)</pre></div></div></div></div></div>"
            ]
          },
          "metadata": {},
          "execution_count": 171
        }
      ]
    },
    {
      "cell_type": "code",
      "source": [
        "ada.score(x_test,y_test)"
      ],
      "metadata": {
        "id": "dT7lcK6kpz6X",
        "outputId": "cdbdb51f-9d21-4636-cb5b-6c66789fbd23",
        "colab": {
          "base_uri": "https://localhost:8080/"
        }
      },
      "execution_count": 172,
      "outputs": [
        {
          "output_type": "execute_result",
          "data": {
            "text/plain": [
              "0.7110142289081589"
            ]
          },
          "metadata": {},
          "execution_count": 172
        }
      ]
    },
    {
      "cell_type": "code",
      "source": [
        "ada.predict(x_test)"
      ],
      "metadata": {
        "id": "NuojNQLep_Fq",
        "outputId": "beab03f7-0b32-43bc-c432-fb0717838f5b",
        "colab": {
          "base_uri": "https://localhost:8080/"
        }
      },
      "execution_count": 173,
      "outputs": [
        {
          "output_type": "execute_result",
          "data": {
            "text/plain": [
              "array([1, 0, 1, ..., 0, 1, 0])"
            ]
          },
          "metadata": {},
          "execution_count": 173
        }
      ]
    },
    {
      "cell_type": "markdown",
      "source": [
        "**Drinker_type**"
      ],
      "metadata": {
        "id": "7wxX4MKVqHps"
      }
    },
    {
      "cell_type": "code",
      "source": [
        "x = principal_components\n",
        "y = df.DRK_YN"
      ],
      "metadata": {
        "id": "iGhLA5YAqGzv"
      },
      "execution_count": 174,
      "outputs": []
    },
    {
      "cell_type": "code",
      "source": [
        "x_train, x_test, y_train, y_test = train_test_split(x,y, random_state = 0, test_size = 0.2)"
      ],
      "metadata": {
        "id": "vTjhPCRjqNpA"
      },
      "execution_count": 175,
      "outputs": []
    },
    {
      "cell_type": "code",
      "source": [
        "ada = AdaBoostClassifier(n_estimators= 100, learning_rate=1)"
      ],
      "metadata": {
        "id": "iVHluWT8qQ5Y"
      },
      "execution_count": 176,
      "outputs": []
    },
    {
      "cell_type": "code",
      "source": [
        "ada.fit(x_train, y_train)"
      ],
      "metadata": {
        "id": "gC_OCVXGqlW-",
        "outputId": "de7f54ce-c968-408e-926a-512cefe6bdbe",
        "colab": {
          "base_uri": "https://localhost:8080/",
          "height": 75
        }
      },
      "execution_count": 177,
      "outputs": [
        {
          "output_type": "execute_result",
          "data": {
            "text/plain": [
              "AdaBoostClassifier(learning_rate=1, n_estimators=100)"
            ],
            "text/html": [
              "<style>#sk-container-id-2 {color: black;background-color: white;}#sk-container-id-2 pre{padding: 0;}#sk-container-id-2 div.sk-toggleable {background-color: white;}#sk-container-id-2 label.sk-toggleable__label {cursor: pointer;display: block;width: 100%;margin-bottom: 0;padding: 0.3em;box-sizing: border-box;text-align: center;}#sk-container-id-2 label.sk-toggleable__label-arrow:before {content: \"▸\";float: left;margin-right: 0.25em;color: #696969;}#sk-container-id-2 label.sk-toggleable__label-arrow:hover:before {color: black;}#sk-container-id-2 div.sk-estimator:hover label.sk-toggleable__label-arrow:before {color: black;}#sk-container-id-2 div.sk-toggleable__content {max-height: 0;max-width: 0;overflow: hidden;text-align: left;background-color: #f0f8ff;}#sk-container-id-2 div.sk-toggleable__content pre {margin: 0.2em;color: black;border-radius: 0.25em;background-color: #f0f8ff;}#sk-container-id-2 input.sk-toggleable__control:checked~div.sk-toggleable__content {max-height: 200px;max-width: 100%;overflow: auto;}#sk-container-id-2 input.sk-toggleable__control:checked~label.sk-toggleable__label-arrow:before {content: \"▾\";}#sk-container-id-2 div.sk-estimator input.sk-toggleable__control:checked~label.sk-toggleable__label {background-color: #d4ebff;}#sk-container-id-2 div.sk-label input.sk-toggleable__control:checked~label.sk-toggleable__label {background-color: #d4ebff;}#sk-container-id-2 input.sk-hidden--visually {border: 0;clip: rect(1px 1px 1px 1px);clip: rect(1px, 1px, 1px, 1px);height: 1px;margin: -1px;overflow: hidden;padding: 0;position: absolute;width: 1px;}#sk-container-id-2 div.sk-estimator {font-family: monospace;background-color: #f0f8ff;border: 1px dotted black;border-radius: 0.25em;box-sizing: border-box;margin-bottom: 0.5em;}#sk-container-id-2 div.sk-estimator:hover {background-color: #d4ebff;}#sk-container-id-2 div.sk-parallel-item::after {content: \"\";width: 100%;border-bottom: 1px solid gray;flex-grow: 1;}#sk-container-id-2 div.sk-label:hover label.sk-toggleable__label {background-color: #d4ebff;}#sk-container-id-2 div.sk-serial::before {content: \"\";position: absolute;border-left: 1px solid gray;box-sizing: border-box;top: 0;bottom: 0;left: 50%;z-index: 0;}#sk-container-id-2 div.sk-serial {display: flex;flex-direction: column;align-items: center;background-color: white;padding-right: 0.2em;padding-left: 0.2em;position: relative;}#sk-container-id-2 div.sk-item {position: relative;z-index: 1;}#sk-container-id-2 div.sk-parallel {display: flex;align-items: stretch;justify-content: center;background-color: white;position: relative;}#sk-container-id-2 div.sk-item::before, #sk-container-id-2 div.sk-parallel-item::before {content: \"\";position: absolute;border-left: 1px solid gray;box-sizing: border-box;top: 0;bottom: 0;left: 50%;z-index: -1;}#sk-container-id-2 div.sk-parallel-item {display: flex;flex-direction: column;z-index: 1;position: relative;background-color: white;}#sk-container-id-2 div.sk-parallel-item:first-child::after {align-self: flex-end;width: 50%;}#sk-container-id-2 div.sk-parallel-item:last-child::after {align-self: flex-start;width: 50%;}#sk-container-id-2 div.sk-parallel-item:only-child::after {width: 0;}#sk-container-id-2 div.sk-dashed-wrapped {border: 1px dashed gray;margin: 0 0.4em 0.5em 0.4em;box-sizing: border-box;padding-bottom: 0.4em;background-color: white;}#sk-container-id-2 div.sk-label label {font-family: monospace;font-weight: bold;display: inline-block;line-height: 1.2em;}#sk-container-id-2 div.sk-label-container {text-align: center;}#sk-container-id-2 div.sk-container {/* jupyter's `normalize.less` sets `[hidden] { display: none; }` but bootstrap.min.css set `[hidden] { display: none !important; }` so we also need the `!important` here to be able to override the default hidden behavior on the sphinx rendered scikit-learn.org. See: https://github.com/scikit-learn/scikit-learn/issues/21755 */display: inline-block !important;position: relative;}#sk-container-id-2 div.sk-text-repr-fallback {display: none;}</style><div id=\"sk-container-id-2\" class=\"sk-top-container\"><div class=\"sk-text-repr-fallback\"><pre>AdaBoostClassifier(learning_rate=1, n_estimators=100)</pre><b>In a Jupyter environment, please rerun this cell to show the HTML representation or trust the notebook. <br />On GitHub, the HTML representation is unable to render, please try loading this page with nbviewer.org.</b></div><div class=\"sk-container\" hidden><div class=\"sk-item\"><div class=\"sk-estimator sk-toggleable\"><input class=\"sk-toggleable__control sk-hidden--visually\" id=\"sk-estimator-id-2\" type=\"checkbox\" checked><label for=\"sk-estimator-id-2\" class=\"sk-toggleable__label sk-toggleable__label-arrow\">AdaBoostClassifier</label><div class=\"sk-toggleable__content\"><pre>AdaBoostClassifier(learning_rate=1, n_estimators=100)</pre></div></div></div></div></div>"
            ]
          },
          "metadata": {},
          "execution_count": 177
        }
      ]
    },
    {
      "cell_type": "code",
      "source": [
        "ada.score(x_test,y_test)"
      ],
      "metadata": {
        "id": "kllsv9lWqSam",
        "outputId": "0bace991-3a88-4539-f392-7c48b4fd20e1",
        "colab": {
          "base_uri": "https://localhost:8080/"
        }
      },
      "execution_count": 178,
      "outputs": [
        {
          "output_type": "execute_result",
          "data": {
            "text/plain": [
              "0.7110142289081589"
            ]
          },
          "metadata": {},
          "execution_count": 178
        }
      ]
    },
    {
      "cell_type": "code",
      "source": [
        "ada.predict(x_test)"
      ],
      "metadata": {
        "id": "33bVBvHkqV-O",
        "outputId": "f8dd233f-06e8-4c07-a47a-457acf833cf7",
        "colab": {
          "base_uri": "https://localhost:8080/"
        }
      },
      "execution_count": 179,
      "outputs": [
        {
          "output_type": "execute_result",
          "data": {
            "text/plain": [
              "array([1, 0, 1, ..., 0, 1, 0])"
            ]
          },
          "metadata": {},
          "execution_count": 179
        }
      ]
    }
  ]
}